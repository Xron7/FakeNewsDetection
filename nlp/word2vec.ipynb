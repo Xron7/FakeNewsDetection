{
  "nbformat": 4,
  "nbformat_minor": 0,
  "metadata": {
    "colab": {
      "provenance": []
    },
    "kernelspec": {
      "name": "python3",
      "display_name": "Python 3"
    },
    "language_info": {
      "name": "python"
    }
  },
  "cells": [
    {
      "cell_type": "code",
      "source": [
        "!pip install gensim"
      ],
      "metadata": {
        "id": "u2__wamKUVxD",
        "colab": {
          "base_uri": "https://localhost:8080/"
        },
        "outputId": "1526105b-856e-4047-aca0-27a28cd43b38"
      },
      "execution_count": null,
      "outputs": [
        {
          "output_type": "stream",
          "name": "stdout",
          "text": [
            "Requirement already satisfied: gensim in /usr/local/lib/python3.10/dist-packages (4.3.3)\n",
            "Requirement already satisfied: numpy<2.0,>=1.18.5 in /usr/local/lib/python3.10/dist-packages (from gensim) (1.26.4)\n",
            "Requirement already satisfied: scipy<1.14.0,>=1.7.0 in /usr/local/lib/python3.10/dist-packages (from gensim) (1.13.1)\n",
            "Requirement already satisfied: smart-open>=1.8.1 in /usr/local/lib/python3.10/dist-packages (from gensim) (7.0.5)\n",
            "Requirement already satisfied: wrapt in /usr/local/lib/python3.10/dist-packages (from smart-open>=1.8.1->gensim) (1.17.0)\n"
          ]
        }
      ]
    },
    {
      "cell_type": "code",
      "source": [
        "import nltk\n",
        "import pandas            as pd\n",
        "import gensim.downloader as api\n",
        "import numpy             as np\n",
        "\n",
        "from nltk.tokenize import word_tokenize"
      ],
      "metadata": {
        "id": "0exPtOo4w1Zn"
      },
      "execution_count": null,
      "outputs": []
    },
    {
      "cell_type": "code",
      "source": [
        "tweets_df = pd.read_csv('tweets.txt')\n",
        "\n",
        "tweets_df['tweet_length'] = tweets_df['tweet'].apply(len)\n",
        "tweets_df['word_count']   = tweets_df['tweet'].apply(lambda x: len(x.split()))\n",
        "\n",
        "tweet_length_avg = tweets_df['tweet_length'].mean()\n",
        "word_count_avg   = tweets_df['word_count'].mean()\n",
        "\n",
        "print(f'Tweet length average: {tweet_length_avg:.2f}')\n",
        "print(f'Word count average: {word_count_avg:.2f}')"
      ],
      "metadata": {
        "colab": {
          "base_uri": "https://localhost:8080/"
        },
        "id": "b0zVLSuHo302",
        "outputId": "6fc6bc70-d49a-4a21-dcac-50749ad380db"
      },
      "execution_count": null,
      "outputs": [
        {
          "output_type": "stream",
          "name": "stdout",
          "text": [
            "Tweet length average: 91.88\n",
            "Word count average: 15.38\n"
          ]
        }
      ]
    },
    {
      "cell_type": "code",
      "source": [
        "model = api.load(\"word2vec-google-news-300\")"
      ],
      "metadata": {
        "colab": {
          "base_uri": "https://localhost:8080/"
        },
        "id": "JjbGtnX8pBLY",
        "outputId": "74051906-55be-46db-a15b-d8316d7acebc"
      },
      "execution_count": null,
      "outputs": [
        {
          "output_type": "stream",
          "name": "stdout",
          "text": [
            "[==================================================] 100.0% 1662.8/1662.8MB downloaded\n"
          ]
        }
      ]
    },
    {
      "cell_type": "code",
      "source": [
        "nltk.download('punkt_tab')"
      ],
      "metadata": {
        "colab": {
          "base_uri": "https://localhost:8080/"
        },
        "id": "HTW2FDZtuNKx",
        "outputId": "3d7b9bb8-76c8-46be-9fff-1df3dac49c36"
      },
      "execution_count": null,
      "outputs": [
        {
          "output_type": "stream",
          "name": "stderr",
          "text": [
            "[nltk_data] Downloading package punkt_tab to /root/nltk_data...\n",
            "[nltk_data]   Package punkt_tab is already up-to-date!\n"
          ]
        },
        {
          "output_type": "execute_result",
          "data": {
            "text/plain": [
              "True"
            ]
          },
          "metadata": {},
          "execution_count": 22
        }
      ]
    },
    {
      "cell_type": "code",
      "source": [
        "def get_average_vector(tweet, model):\n",
        "    words = [word for word in word_tokenize(tweet.lower()) if word in model.key_to_index]\n",
        "    if len(words) == 0:\n",
        "        return np.zeros(model.vector_size)\n",
        "    word_vectors = [model[word] for word in words]\n",
        "    return np.mean(word_vectors, axis=0)\n",
        "\n",
        "\n",
        "tweets_df['avg_vector'] = tweets_df['tweet'].apply(lambda x: get_average_vector(x, model))"
      ],
      "metadata": {
        "id": "4PFdl44arJUd"
      },
      "execution_count": null,
      "outputs": []
    },
    {
      "cell_type": "code",
      "source": [
        "def save_vectors_to_file(tweet_df, filename):\n",
        "    with open(filename, 'w') as f:\n",
        "        for vector in tweets_df['avg_vector']:\n",
        "            f.write(' '.join(map(str, vector)) + '\\n')\n",
        "\n",
        "save_vectors_to_file(tweets_df, 'word2vec_avg.txt')"
      ],
      "metadata": {
        "id": "9DttW7de9DQC"
      },
      "execution_count": null,
      "outputs": []
    }
  ]
}