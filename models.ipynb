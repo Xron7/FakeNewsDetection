{
 "cells": [
  {
   "cell_type": "code",
   "execution_count": 4,
   "id": "08bf955a-1075-4c1a-8c4a-a5e4def105cf",
   "metadata": {},
   "outputs": [],
   "source": [
    "import pandas as pd\n",
    "\n",
    "from sklearn.model_selection import train_test_split\n",
    "from sklearn.linear_model    import LogisticRegression\n",
    "from sklearn.metrics         import accuracy_score, confusion_matrix, classification_report, log_loss\n",
    "\n",
    "from config import EXCLUDE_COLUMNS, PATH"
   ]
  },
  {
   "cell_type": "code",
   "execution_count": 5,
   "id": "21957d7c-37e6-4c74-ae0c-90cee99d8b32",
   "metadata": {},
   "outputs": [],
   "source": [
    "df = pd.read_csv(PATH + 'trueFalse.csv')"
   ]
  },
  {
   "cell_type": "code",
   "execution_count": 6,
   "id": "7e44708a-6ee0-4d94-bef4-3e729fb0335a",
   "metadata": {},
   "outputs": [],
   "source": [
    "X = df.drop(columns = EXCLUDE_COLUMNS)\n",
    "y = df['label']"
   ]
  },
  {
   "cell_type": "code",
   "execution_count": 9,
   "id": "2070c518-75a4-44ee-b6e3-47a4c873a1ca",
   "metadata": {},
   "outputs": [],
   "source": [
    "X_train, X_test, y_train, y_test = train_test_split(X, y, test_size=0.20, random_state=42)"
   ]
  },
  {
   "cell_type": "code",
   "execution_count": 12,
   "id": "6f491203-93da-46de-b6de-174d1de02b1b",
   "metadata": {},
   "outputs": [
    {
     "name": "stdout",
     "output_type": "stream",
     "text": [
      "Accuracy: 0.5844155844155844\n",
      "Log Loss: 0.6913764023984809\n",
      "Confusion Matrix:\n",
      " [[69 46]\n",
      " [50 66]]\n",
      "Classification Report:\n",
      "               precision    recall  f1-score   support\n",
      "\n",
      "           0       0.58      0.60      0.59       115\n",
      "           2       0.59      0.57      0.58       116\n",
      "\n",
      "    accuracy                           0.58       231\n",
      "   macro avg       0.58      0.58      0.58       231\n",
      "weighted avg       0.58      0.58      0.58       231\n",
      "\n"
     ]
    },
    {
     "name": "stderr",
     "output_type": "stream",
     "text": [
      "c:\\users\\panos\\appdata\\local\\programs\\python\\python38\\lib\\site-packages\\sklearn\\linear_model\\_logistic.py:460: ConvergenceWarning: lbfgs failed to converge (status=1):\n",
      "STOP: TOTAL NO. of ITERATIONS REACHED LIMIT.\n",
      "\n",
      "Increase the number of iterations (max_iter) or scale the data as shown in:\n",
      "    https://scikit-learn.org/stable/modules/preprocessing.html\n",
      "Please also refer to the documentation for alternative solver options:\n",
      "    https://scikit-learn.org/stable/modules/linear_model.html#logistic-regression\n",
      "  n_iter_i = _check_optimize_result(\n"
     ]
    }
   ],
   "source": [
    "model = LogisticRegression()\n",
    "model.fit(X_train, y_train)\n",
    "\n",
    "# Predictions\n",
    "y_pred = model.predict(X_test)\n",
    "y_pred_proba = model.predict_proba(X_test)  # Predict probabilities for log_loss calculation\n",
    "\n",
    "# Evaluation\n",
    "accuracy = accuracy_score(y_test, y_pred)\n",
    "loss = log_loss(y_test, y_pred_proba)\n",
    "conf_matrix = confusion_matrix(y_test, y_pred)\n",
    "report = classification_report(y_test, y_pred)\n",
    "\n",
    "print(\"Accuracy:\", accuracy)\n",
    "print(\"Log Loss:\", loss)\n",
    "print(\"Confusion Matrix:\\n\", conf_matrix)\n",
    "print(\"Classification Report:\\n\", report)"
   ]
  },
  {
   "cell_type": "code",
   "execution_count": null,
   "id": "f88874fe-d8d2-4d82-a3f3-9cb2ec2847dc",
   "metadata": {},
   "outputs": [],
   "source": [
    "# TO DO\n",
    "# Text Vectorizer"
   ]
  }
 ],
 "metadata": {
  "kernelspec": {
   "display_name": "Python 3 (ipykernel)",
   "language": "python",
   "name": "python3"
  },
  "language_info": {
   "codemirror_mode": {
    "name": "ipython",
    "version": 3
   },
   "file_extension": ".py",
   "mimetype": "text/x-python",
   "name": "python",
   "nbconvert_exporter": "python",
   "pygments_lexer": "ipython3",
   "version": "3.8.10"
  }
 },
 "nbformat": 4,
 "nbformat_minor": 5
}
