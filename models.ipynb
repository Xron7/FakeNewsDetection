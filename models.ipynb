{
 "cells": [
  {
   "cell_type": "code",
   "execution_count": 1,
   "id": "08bf955a-1075-4c1a-8c4a-a5e4def105cf",
   "metadata": {},
   "outputs": [],
   "source": [
    "import pandas as pd\n",
    "\n",
    "from sklearn.model_selection import train_test_split\n",
    "from sklearn.linear_model    import LogisticRegression\n",
    "from sklearn.metrics         import accuracy_score, confusion_matrix, classification_report, log_loss\n",
    "from sklearn.preprocessing   import StandardScaler,  MinMaxScaler\n",
    "\n",
    "from config import EXCLUDE_COLUMNS, PATH"
   ]
  },
  {
   "cell_type": "code",
   "execution_count": 2,
   "id": "21957d7c-37e6-4c74-ae0c-90cee99d8b32",
   "metadata": {},
   "outputs": [],
   "source": [
    "df = pd.read_csv(PATH + 'trueFalse.csv')"
   ]
  },
  {
   "cell_type": "code",
   "execution_count": 3,
   "id": "7e44708a-6ee0-4d94-bef4-3e729fb0335a",
   "metadata": {},
   "outputs": [],
   "source": [
    "X = df.drop(columns = EXCLUDE_COLUMNS)\n",
    "y = df['label']"
   ]
  },
  {
   "cell_type": "code",
   "execution_count": 4,
   "id": "2070c518-75a4-44ee-b6e3-47a4c873a1ca",
   "metadata": {},
   "outputs": [],
   "source": [
    "# Splitting\n",
    "X_train, X_test, y_train, y_test = train_test_split(X, y, test_size=0.20, random_state=42)"
   ]
  },
  {
   "cell_type": "code",
   "execution_count": 5,
   "id": "2489d31b-f1fb-4e9f-a0f1-3789bfbd6a5d",
   "metadata": {},
   "outputs": [],
   "source": [
    "# Scaling\n",
    "scaler = StandardScaler()\n",
    "\n",
    "X_train_scaled = scaler.fit_transform(X_train)\n",
    "X_test_scaled  = scaler.transform(X_test)"
   ]
  },
  {
   "cell_type": "code",
   "execution_count": 6,
   "id": "6f491203-93da-46de-b6de-174d1de02b1b",
   "metadata": {},
   "outputs": [
    {
     "name": "stdout",
     "output_type": "stream",
     "text": [
      "Accuracy: 0.6060606060606061\n",
      "Log Loss: 0.7860171836578389\n",
      "Confusion Matrix:\n",
      " [[71 44]\n",
      " [47 69]]\n",
      "Classification Report:\n",
      "               precision    recall  f1-score   support\n",
      "\n",
      "           0       0.60      0.62      0.61       115\n",
      "           1       0.61      0.59      0.60       116\n",
      "\n",
      "    accuracy                           0.61       231\n",
      "   macro avg       0.61      0.61      0.61       231\n",
      "weighted avg       0.61      0.61      0.61       231\n",
      "\n"
     ]
    }
   ],
   "source": [
    "# Logistic Regression\n",
    "model = LogisticRegression()\n",
    "model.fit(X_train_scaled, y_train)\n",
    "\n",
    "y_pred       = model.predict(X_test_scaled)\n",
    "y_pred_proba = model.predict_proba(X_test_scaled)\n",
    "\n",
    "accuracy    = accuracy_score(y_test, y_pred)\n",
    "loss        = log_loss(y_test, y_pred_proba)\n",
    "conf_matrix = confusion_matrix(y_test, y_pred)\n",
    "report      = classification_report(y_test, y_pred)\n",
    "\n",
    "print(\"Accuracy:\", accuracy)\n",
    "print(\"Log Loss:\", loss)\n",
    "print(\"Confusion Matrix:\\n\", conf_matrix)\n",
    "print(\"Classification Report:\\n\", report)"
   ]
  },
  {
   "cell_type": "code",
   "execution_count": 7,
   "id": "05864efd-a6ed-4701-a5af-e6aa327d3e5b",
   "metadata": {},
   "outputs": [],
   "source": [
    "# TO DO\n",
    "# Text Vectorizer\n",
    "# different scaling per feature"
   ]
  },
  {
   "cell_type": "code",
   "execution_count": null,
   "id": "f1242be4-468d-43d9-9954-3d3680465bb0",
   "metadata": {},
   "outputs": [],
   "source": []
  }
 ],
 "metadata": {
  "kernelspec": {
   "display_name": "Python 3 (ipykernel)",
   "language": "python",
   "name": "python3"
  },
  "language_info": {
   "codemirror_mode": {
    "name": "ipython",
    "version": 3
   },
   "file_extension": ".py",
   "mimetype": "text/x-python",
   "name": "python",
   "nbconvert_exporter": "python",
   "pygments_lexer": "ipython3",
   "version": "3.11.9"
  }
 },
 "nbformat": 4,
 "nbformat_minor": 5
}
