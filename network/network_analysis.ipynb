{
  "cells": [
    {
      "cell_type": "markdown",
      "id": "kaSJHzI49Ix1",
      "metadata": {
        "id": "kaSJHzI49Ix1"
      },
      "source": [
        "# Network Analysis"
      ]
    },
    {
      "cell_type": "markdown",
      "id": "Kp24aWXU9MKA",
      "metadata": {
        "id": "Kp24aWXU9MKA"
      },
      "source": [
        "## Setup"
      ]
    },
    {
      "cell_type": "code",
      "execution_count": 1,
      "id": "f111bbcf-1e99-426f-978e-5b477b9a9501",
      "metadata": {
        "id": "f111bbcf-1e99-426f-978e-5b477b9a9501"
      },
      "outputs": [],
      "source": [
        "import networkx as nx\n",
        "import pandas   as pd\n",
        "import igraph   as ig\n",
        "import os\n",
        "\n",
        "os.chdir(os.path.abspath(os.path.join(os.getcwd(), \"..\")))\n",
        "\n",
        "from config import PATH"
      ]
    },
    {
      "cell_type": "markdown",
      "id": "JM0hvISS9T6Y",
      "metadata": {
        "id": "JM0hvISS9T6Y"
      },
      "source": [
        "## Metrics Calculations"
      ]
    },
    {
      "cell_type": "code",
      "execution_count": 2,
      "id": "8625cde9-df2e-4176-8d36-cb8c4d34c027",
      "metadata": {
        "id": "8625cde9-df2e-4176-8d36-cb8c4d34c027"
      },
      "outputs": [],
      "source": [
        "G = nx.DiGraph()\n",
        "G = nx.read_edgelist(PATH + \"real_network.csv\", delimiter=\",\", nodetype=int, data=(('weight', float),), create_using=nx.DiGraph())"
      ]
    },
    {
      "cell_type": "code",
      "execution_count": 3,
      "id": "2aa0fa48-52b6-4d1e-bafc-1d0620012141",
      "metadata": {
        "colab": {
          "base_uri": "https://localhost:8080/"
        },
        "id": "2aa0fa48-52b6-4d1e-bafc-1d0620012141",
        "outputId": "481fa055-742f-40ab-b3b7-91e254aed580"
      },
      "outputs": [
        {
          "name": "stdout",
          "output_type": "stream",
          "text": [
            "Number of nodes: 677640\n",
            "Number of edges: 834432\n"
          ]
        }
      ],
      "source": [
        "num_nodes = G.number_of_nodes()\n",
        "num_edges = G.number_of_edges()\n",
        "\n",
        "print(f\"Number of nodes: {num_nodes}\")\n",
        "print(f\"Number of edges: {num_edges}\")"
      ]
    },
    {
      "cell_type": "code",
      "execution_count": 4,
      "id": "04145728",
      "metadata": {},
      "outputs": [
        {
          "data": {
            "text/plain": [
              "1.8171614879550778e-06"
            ]
          },
          "execution_count": 4,
          "metadata": {},
          "output_type": "execute_result"
        }
      ],
      "source": [
        "nx.density(G)"
      ]
    },
    {
      "cell_type": "code",
      "execution_count": 5,
      "id": "0g3kvSwbftRN",
      "metadata": {
        "colab": {
          "base_uri": "https://localhost:8080/",
          "height": 206
        },
        "id": "0g3kvSwbftRN",
        "outputId": "4182a3b5-396c-44fb-bbdf-e57bda60c26f"
      },
      "outputs": [
        {
          "data": {
            "text/html": [
              "<div>\n",
              "<style scoped>\n",
              "    .dataframe tbody tr th:only-of-type {\n",
              "        vertical-align: middle;\n",
              "    }\n",
              "\n",
              "    .dataframe tbody tr th {\n",
              "        vertical-align: top;\n",
              "    }\n",
              "\n",
              "    .dataframe thead th {\n",
              "        text-align: right;\n",
              "    }\n",
              "</style>\n",
              "<table border=\"1\" class=\"dataframe\">\n",
              "  <thead>\n",
              "    <tr style=\"text-align: right;\">\n",
              "      <th></th>\n",
              "      <th>node</th>\n",
              "      <th>in_degree</th>\n",
              "      <th>out_degree</th>\n",
              "      <th>katz</th>\n",
              "      <th>eigenvector</th>\n",
              "      <th>pagerank</th>\n",
              "    </tr>\n",
              "  </thead>\n",
              "  <tbody>\n",
              "    <tr>\n",
              "      <th>0</th>\n",
              "      <td>39364684</td>\n",
              "      <td>1</td>\n",
              "      <td>206</td>\n",
              "      <td>0.001173</td>\n",
              "      <td>1.925743e-14</td>\n",
              "      <td>0.000001</td>\n",
              "    </tr>\n",
              "    <tr>\n",
              "      <th>1</th>\n",
              "      <td>21061006</td>\n",
              "      <td>3</td>\n",
              "      <td>0</td>\n",
              "      <td>0.001400</td>\n",
              "      <td>6.756681e-11</td>\n",
              "      <td>0.000003</td>\n",
              "    </tr>\n",
              "    <tr>\n",
              "      <th>2</th>\n",
              "      <td>18513522</td>\n",
              "      <td>1</td>\n",
              "      <td>0</td>\n",
              "      <td>0.001162</td>\n",
              "      <td>1.925727e-14</td>\n",
              "      <td>0.000001</td>\n",
              "    </tr>\n",
              "    <tr>\n",
              "      <th>3</th>\n",
              "      <td>38251731</td>\n",
              "      <td>1</td>\n",
              "      <td>0</td>\n",
              "      <td>0.001162</td>\n",
              "      <td>1.925727e-14</td>\n",
              "      <td>0.000001</td>\n",
              "    </tr>\n",
              "    <tr>\n",
              "      <th>4</th>\n",
              "      <td>22369434</td>\n",
              "      <td>1</td>\n",
              "      <td>0</td>\n",
              "      <td>0.001162</td>\n",
              "      <td>1.925727e-14</td>\n",
              "      <td>0.000001</td>\n",
              "    </tr>\n",
              "  </tbody>\n",
              "</table>\n",
              "</div>"
            ],
            "text/plain": [
              "       node  in_degree  out_degree      katz   eigenvector  pagerank\n",
              "0  39364684          1         206  0.001173  1.925743e-14  0.000001\n",
              "1  21061006          3           0  0.001400  6.756681e-11  0.000003\n",
              "2  18513522          1           0  0.001162  1.925727e-14  0.000001\n",
              "3  38251731          1           0  0.001162  1.925727e-14  0.000001\n",
              "4  22369434          1           0  0.001162  1.925727e-14  0.000001"
            ]
          },
          "execution_count": 5,
          "metadata": {},
          "output_type": "execute_result"
        }
      ],
      "source": [
        "in_degree              = dict(G.in_degree())\n",
        "out_degree             = dict(G.out_degree())\n",
        "katz_centrality        = nx.katz_centrality(G)\n",
        "eigenvector_centrality = nx.eigenvector_centrality(G, max_iter=1000)\n",
        "pagerank               = nx.pagerank(G)\n",
        "\n",
        "data = {\n",
        "    'node':        list(G.nodes),\n",
        "    'in_degree':   [in_degree[node] for node in G.nodes],\n",
        "    'out_degree':  [out_degree[node] for node in G.nodes],\n",
        "    'katz':        [katz_centrality[node] for node in G.nodes],\n",
        "    'eigenvector': [eigenvector_centrality[node] for node in G.nodes],\n",
        "    'pagerank':    [pagerank[node] for node in G.nodes]\n",
        "}\n",
        "\n",
        "metrics_df = pd.DataFrame(data)\n",
        "metrics_df.head()"
      ]
    },
    {
      "cell_type": "markdown",
      "id": "ao1K2m1g9EBe",
      "metadata": {
        "id": "ao1K2m1g9EBe"
      },
      "source": [
        "# Betweeness with iGraph\n",
        "\n",
        "Way faster than networkx."
      ]
    },
    {
      "cell_type": "code",
      "execution_count": 6,
      "id": "dDv8Mphn2WxY",
      "metadata": {
        "colab": {
          "base_uri": "https://localhost:8080/",
          "height": 206
        },
        "id": "dDv8Mphn2WxY",
        "outputId": "23c471f8-3a32-4597-e2d5-ab047c809616"
      },
      "outputs": [
        {
          "data": {
            "text/html": [
              "<div>\n",
              "<style scoped>\n",
              "    .dataframe tbody tr th:only-of-type {\n",
              "        vertical-align: middle;\n",
              "    }\n",
              "\n",
              "    .dataframe tbody tr th {\n",
              "        vertical-align: top;\n",
              "    }\n",
              "\n",
              "    .dataframe thead th {\n",
              "        text-align: right;\n",
              "    }\n",
              "</style>\n",
              "<table border=\"1\" class=\"dataframe\">\n",
              "  <thead>\n",
              "    <tr style=\"text-align: right;\">\n",
              "      <th></th>\n",
              "      <th>source</th>\n",
              "      <th>target</th>\n",
              "      <th>weight</th>\n",
              "    </tr>\n",
              "  </thead>\n",
              "  <tbody>\n",
              "    <tr>\n",
              "      <th>0</th>\n",
              "      <td>39364684</td>\n",
              "      <td>21061006</td>\n",
              "      <td>0.45</td>\n",
              "    </tr>\n",
              "    <tr>\n",
              "      <th>1</th>\n",
              "      <td>39364684</td>\n",
              "      <td>18513522</td>\n",
              "      <td>0.85</td>\n",
              "    </tr>\n",
              "    <tr>\n",
              "      <th>2</th>\n",
              "      <td>39364684</td>\n",
              "      <td>38251731</td>\n",
              "      <td>1.15</td>\n",
              "    </tr>\n",
              "    <tr>\n",
              "      <th>3</th>\n",
              "      <td>39364684</td>\n",
              "      <td>22369434</td>\n",
              "      <td>1.20</td>\n",
              "    </tr>\n",
              "    <tr>\n",
              "      <th>4</th>\n",
              "      <td>39364684</td>\n",
              "      <td>98928660</td>\n",
              "      <td>1.40</td>\n",
              "    </tr>\n",
              "  </tbody>\n",
              "</table>\n",
              "</div>"
            ],
            "text/plain": [
              "     source    target  weight\n",
              "0  39364684  21061006    0.45\n",
              "1  39364684  18513522    0.85\n",
              "2  39364684  38251731    1.15\n",
              "3  39364684  22369434    1.20\n",
              "4  39364684  98928660    1.40"
            ]
          },
          "execution_count": 6,
          "metadata": {},
          "output_type": "execute_result"
        }
      ],
      "source": [
        "df = pd.read_csv(PATH + \"real_network.csv\", header = None)\n",
        "df.columns = ['source','target', 'weight']\n",
        "df[\"weight\"] = df[\"weight\"].apply(lambda x: 0.0001 if x <= 0 else x)\n",
        "\n",
        "df.head()"
      ]
    },
    {
      "cell_type": "code",
      "execution_count": 7,
      "id": "nlIfmDGe2cQv",
      "metadata": {
        "id": "nlIfmDGe2cQv"
      },
      "outputs": [],
      "source": [
        "edge_list = list(zip(df[\"source\"], df[\"target\"], df[\"weight\"]))\n",
        "G = ig.Graph.TupleList(edge_list, directed=True, edge_attrs=[\"weight\"])"
      ]
    },
    {
      "cell_type": "code",
      "execution_count": 8,
      "id": "Vjq396UO8SBr",
      "metadata": {
        "colab": {
          "base_uri": "https://localhost:8080/",
          "height": 206
        },
        "id": "Vjq396UO8SBr",
        "outputId": "c1f71515-f37e-4324-ef8c-aaaddb65390e"
      },
      "outputs": [
        {
          "data": {
            "text/html": [
              "<div>\n",
              "<style scoped>\n",
              "    .dataframe tbody tr th:only-of-type {\n",
              "        vertical-align: middle;\n",
              "    }\n",
              "\n",
              "    .dataframe tbody tr th {\n",
              "        vertical-align: top;\n",
              "    }\n",
              "\n",
              "    .dataframe thead th {\n",
              "        text-align: right;\n",
              "    }\n",
              "</style>\n",
              "<table border=\"1\" class=\"dataframe\">\n",
              "  <thead>\n",
              "    <tr style=\"text-align: right;\">\n",
              "      <th></th>\n",
              "      <th>node</th>\n",
              "      <th>betweenness</th>\n",
              "    </tr>\n",
              "  </thead>\n",
              "  <tbody>\n",
              "    <tr>\n",
              "      <th>0</th>\n",
              "      <td>39364684</td>\n",
              "      <td>742.0</td>\n",
              "    </tr>\n",
              "    <tr>\n",
              "      <th>1</th>\n",
              "      <td>21061006</td>\n",
              "      <td>0.0</td>\n",
              "    </tr>\n",
              "    <tr>\n",
              "      <th>2</th>\n",
              "      <td>18513522</td>\n",
              "      <td>0.0</td>\n",
              "    </tr>\n",
              "    <tr>\n",
              "      <th>3</th>\n",
              "      <td>38251731</td>\n",
              "      <td>0.0</td>\n",
              "    </tr>\n",
              "    <tr>\n",
              "      <th>4</th>\n",
              "      <td>22369434</td>\n",
              "      <td>0.0</td>\n",
              "    </tr>\n",
              "  </tbody>\n",
              "</table>\n",
              "</div>"
            ],
            "text/plain": [
              "       node  betweenness\n",
              "0  39364684        742.0\n",
              "1  21061006          0.0\n",
              "2  18513522          0.0\n",
              "3  38251731          0.0\n",
              "4  22369434          0.0"
            ]
          },
          "execution_count": 8,
          "metadata": {},
          "output_type": "execute_result"
        }
      ],
      "source": [
        "bt = G.betweenness(directed=True, weights=G.es[\"weight\"])\n",
        "bt_df = pd.DataFrame({\"node\": G.vs[\"name\"], \"betweenness\": bt})\n",
        "bt_df.head()"
      ]
    },
    {
      "cell_type": "markdown",
      "id": "ueN5Rhiw9ybj",
      "metadata": {
        "id": "ueN5Rhiw9ybj"
      },
      "source": [
        "## Metrics Dataframe"
      ]
    },
    {
      "cell_type": "code",
      "execution_count": 9,
      "id": "Rvx4akKV91tL",
      "metadata": {
        "colab": {
          "base_uri": "https://localhost:8080/",
          "height": 206
        },
        "id": "Rvx4akKV91tL",
        "outputId": "bfbfa458-a278-415d-89dc-7ccdbb5364ec"
      },
      "outputs": [
        {
          "data": {
            "text/html": [
              "<div>\n",
              "<style scoped>\n",
              "    .dataframe tbody tr th:only-of-type {\n",
              "        vertical-align: middle;\n",
              "    }\n",
              "\n",
              "    .dataframe tbody tr th {\n",
              "        vertical-align: top;\n",
              "    }\n",
              "\n",
              "    .dataframe thead th {\n",
              "        text-align: right;\n",
              "    }\n",
              "</style>\n",
              "<table border=\"1\" class=\"dataframe\">\n",
              "  <thead>\n",
              "    <tr style=\"text-align: right;\">\n",
              "      <th></th>\n",
              "      <th>node</th>\n",
              "      <th>in_degree</th>\n",
              "      <th>out_degree</th>\n",
              "      <th>katz</th>\n",
              "      <th>eigenvector</th>\n",
              "      <th>pagerank</th>\n",
              "      <th>betweenness</th>\n",
              "    </tr>\n",
              "  </thead>\n",
              "  <tbody>\n",
              "    <tr>\n",
              "      <th>0</th>\n",
              "      <td>39364684</td>\n",
              "      <td>1</td>\n",
              "      <td>206</td>\n",
              "      <td>0.001173</td>\n",
              "      <td>1.925743e-14</td>\n",
              "      <td>0.000001</td>\n",
              "      <td>742.0</td>\n",
              "    </tr>\n",
              "    <tr>\n",
              "      <th>1</th>\n",
              "      <td>21061006</td>\n",
              "      <td>3</td>\n",
              "      <td>0</td>\n",
              "      <td>0.001400</td>\n",
              "      <td>6.756681e-11</td>\n",
              "      <td>0.000003</td>\n",
              "      <td>0.0</td>\n",
              "    </tr>\n",
              "    <tr>\n",
              "      <th>2</th>\n",
              "      <td>18513522</td>\n",
              "      <td>1</td>\n",
              "      <td>0</td>\n",
              "      <td>0.001162</td>\n",
              "      <td>1.925727e-14</td>\n",
              "      <td>0.000001</td>\n",
              "      <td>0.0</td>\n",
              "    </tr>\n",
              "    <tr>\n",
              "      <th>3</th>\n",
              "      <td>38251731</td>\n",
              "      <td>1</td>\n",
              "      <td>0</td>\n",
              "      <td>0.001162</td>\n",
              "      <td>1.925727e-14</td>\n",
              "      <td>0.000001</td>\n",
              "      <td>0.0</td>\n",
              "    </tr>\n",
              "    <tr>\n",
              "      <th>4</th>\n",
              "      <td>22369434</td>\n",
              "      <td>1</td>\n",
              "      <td>0</td>\n",
              "      <td>0.001162</td>\n",
              "      <td>1.925727e-14</td>\n",
              "      <td>0.000001</td>\n",
              "      <td>0.0</td>\n",
              "    </tr>\n",
              "  </tbody>\n",
              "</table>\n",
              "</div>"
            ],
            "text/plain": [
              "       node  in_degree  out_degree      katz   eigenvector  pagerank  \\\n",
              "0  39364684          1         206  0.001173  1.925743e-14  0.000001   \n",
              "1  21061006          3           0  0.001400  6.756681e-11  0.000003   \n",
              "2  18513522          1           0  0.001162  1.925727e-14  0.000001   \n",
              "3  38251731          1           0  0.001162  1.925727e-14  0.000001   \n",
              "4  22369434          1           0  0.001162  1.925727e-14  0.000001   \n",
              "\n",
              "   betweenness  \n",
              "0        742.0  \n",
              "1          0.0  \n",
              "2          0.0  \n",
              "3          0.0  \n",
              "4          0.0  "
            ]
          },
          "execution_count": 9,
          "metadata": {},
          "output_type": "execute_result"
        }
      ],
      "source": [
        "metrics_df = metrics_df.merge(bt_df, on=\"node\")\n",
        "metrics_df.head()"
      ]
    },
    {
      "cell_type": "code",
      "execution_count": 10,
      "id": "af66a9b8",
      "metadata": {},
      "outputs": [
        {
          "data": {
            "text/html": [
              "<div>\n",
              "<style scoped>\n",
              "    .dataframe tbody tr th:only-of-type {\n",
              "        vertical-align: middle;\n",
              "    }\n",
              "\n",
              "    .dataframe tbody tr th {\n",
              "        vertical-align: top;\n",
              "    }\n",
              "\n",
              "    .dataframe thead th {\n",
              "        text-align: right;\n",
              "    }\n",
              "</style>\n",
              "<table border=\"1\" class=\"dataframe\">\n",
              "  <thead>\n",
              "    <tr style=\"text-align: right;\">\n",
              "      <th></th>\n",
              "      <th>node</th>\n",
              "      <th>in_degree</th>\n",
              "      <th>out_degree</th>\n",
              "      <th>katz</th>\n",
              "      <th>eigenvector</th>\n",
              "      <th>pagerank</th>\n",
              "      <th>betweenness</th>\n",
              "    </tr>\n",
              "  </thead>\n",
              "  <tbody>\n",
              "    <tr>\n",
              "      <th>count</th>\n",
              "      <td>6.776400e+05</td>\n",
              "      <td>677640.000000</td>\n",
              "      <td>677640.000000</td>\n",
              "      <td>677640.000000</td>\n",
              "      <td>6.776400e+05</td>\n",
              "      <td>6.776400e+05</td>\n",
              "      <td>6.776400e+05</td>\n",
              "    </tr>\n",
              "    <tr>\n",
              "      <th>mean</th>\n",
              "      <td>1.010980e+16</td>\n",
              "      <td>1.231379</td>\n",
              "      <td>1.231379</td>\n",
              "      <td>0.001207</td>\n",
              "      <td>7.284969e-05</td>\n",
              "      <td>1.475710e-06</td>\n",
              "      <td>1.905337e+04</td>\n",
              "    </tr>\n",
              "    <tr>\n",
              "      <th>std</th>\n",
              "      <td>8.561247e+16</td>\n",
              "      <td>0.856394</td>\n",
              "      <td>92.302353</td>\n",
              "      <td>0.000140</td>\n",
              "      <td>1.212603e-03</td>\n",
              "      <td>8.591826e-07</td>\n",
              "      <td>1.802217e+06</td>\n",
              "    </tr>\n",
              "    <tr>\n",
              "      <th>min</th>\n",
              "      <td>5.700000e+01</td>\n",
              "      <td>0.000000</td>\n",
              "      <td>0.000000</td>\n",
              "      <td>0.001045</td>\n",
              "      <td>5.739166e-22</td>\n",
              "      <td>-3.712248e-04</td>\n",
              "      <td>0.000000e+00</td>\n",
              "    </tr>\n",
              "    <tr>\n",
              "      <th>25%</th>\n",
              "      <td>1.462378e+08</td>\n",
              "      <td>1.000000</td>\n",
              "      <td>0.000000</td>\n",
              "      <td>0.001150</td>\n",
              "      <td>1.434792e-20</td>\n",
              "      <td>1.317094e-06</td>\n",
              "      <td>0.000000e+00</td>\n",
              "    </tr>\n",
              "    <tr>\n",
              "      <th>50%</th>\n",
              "      <td>4.543826e+08</td>\n",
              "      <td>1.000000</td>\n",
              "      <td>0.000000</td>\n",
              "      <td>0.001163</td>\n",
              "      <td>9.628723e-15</td>\n",
              "      <td>1.317257e-06</td>\n",
              "      <td>0.000000e+00</td>\n",
              "    </tr>\n",
              "    <tr>\n",
              "      <th>75%</th>\n",
              "      <td>1.714993e+09</td>\n",
              "      <td>1.000000</td>\n",
              "      <td>0.000000</td>\n",
              "      <td>0.001195</td>\n",
              "      <td>1.327581e-08</td>\n",
              "      <td>1.322488e-06</td>\n",
              "      <td>0.000000e+00</td>\n",
              "    </tr>\n",
              "    <tr>\n",
              "      <th>max</th>\n",
              "      <td>7.884893e+17</td>\n",
              "      <td>94.000000</td>\n",
              "      <td>35379.000000</td>\n",
              "      <td>0.013551</td>\n",
              "      <td>2.493019e-01</td>\n",
              "      <td>3.751144e-04</td>\n",
              "      <td>3.755521e+08</td>\n",
              "    </tr>\n",
              "  </tbody>\n",
              "</table>\n",
              "</div>"
            ],
            "text/plain": [
              "               node      in_degree     out_degree           katz  \\\n",
              "count  6.776400e+05  677640.000000  677640.000000  677640.000000   \n",
              "mean   1.010980e+16       1.231379       1.231379       0.001207   \n",
              "std    8.561247e+16       0.856394      92.302353       0.000140   \n",
              "min    5.700000e+01       0.000000       0.000000       0.001045   \n",
              "25%    1.462378e+08       1.000000       0.000000       0.001150   \n",
              "50%    4.543826e+08       1.000000       0.000000       0.001163   \n",
              "75%    1.714993e+09       1.000000       0.000000       0.001195   \n",
              "max    7.884893e+17      94.000000   35379.000000       0.013551   \n",
              "\n",
              "        eigenvector      pagerank   betweenness  \n",
              "count  6.776400e+05  6.776400e+05  6.776400e+05  \n",
              "mean   7.284969e-05  1.475710e-06  1.905337e+04  \n",
              "std    1.212603e-03  8.591826e-07  1.802217e+06  \n",
              "min    5.739166e-22 -3.712248e-04  0.000000e+00  \n",
              "25%    1.434792e-20  1.317094e-06  0.000000e+00  \n",
              "50%    9.628723e-15  1.317257e-06  0.000000e+00  \n",
              "75%    1.327581e-08  1.322488e-06  0.000000e+00  \n",
              "max    2.493019e-01  3.751144e-04  3.755521e+08  "
            ]
          },
          "execution_count": 10,
          "metadata": {},
          "output_type": "execute_result"
        }
      ],
      "source": [
        "metrics_df.describe()"
      ]
    },
    {
      "cell_type": "code",
      "execution_count": 11,
      "id": "5b72e8f4",
      "metadata": {},
      "outputs": [],
      "source": [
        "metrics_df.to_csv(PATH + 'graph_metrics.csv')"
      ]
    }
  ],
  "metadata": {
    "colab": {
      "provenance": []
    },
    "kernelspec": {
      "display_name": ".venv",
      "language": "python",
      "name": "python3"
    },
    "language_info": {
      "codemirror_mode": {
        "name": "ipython",
        "version": 3
      },
      "file_extension": ".py",
      "mimetype": "text/x-python",
      "name": "python",
      "nbconvert_exporter": "python",
      "pygments_lexer": "ipython3",
      "version": "3.11.9"
    }
  },
  "nbformat": 4,
  "nbformat_minor": 5
}
