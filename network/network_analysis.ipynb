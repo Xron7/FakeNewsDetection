{
  "cells": [
    {
      "cell_type": "code",
      "execution_count": 1,
      "id": "f111bbcf-1e99-426f-978e-5b477b9a9501",
      "metadata": {
        "id": "f111bbcf-1e99-426f-978e-5b477b9a9501"
      },
      "outputs": [],
      "source": [
        "import networkx as nx\n",
        "import numpy    as np\n",
        "import pandas   as pd"
      ]
    },
    {
      "cell_type": "code",
      "execution_count": 7,
      "id": "8625cde9-df2e-4176-8d36-cb8c4d34c027",
      "metadata": {
        "id": "8625cde9-df2e-4176-8d36-cb8c4d34c027"
      },
      "outputs": [],
      "source": [
        "G = nx.DiGraph()\n",
        "G = nx.read_edgelist(\"network.csv\", delimiter=\",\", nodetype=int, data=(('weight', float),), create_using=nx.DiGraph())"
      ]
    },
    {
      "cell_type": "code",
      "execution_count": 8,
      "id": "2aa0fa48-52b6-4d1e-bafc-1d0620012141",
      "metadata": {
        "colab": {
          "base_uri": "https://localhost:8080/"
        },
        "id": "2aa0fa48-52b6-4d1e-bafc-1d0620012141",
        "outputId": "652982c2-18be-4997-c166-cbf40c95d216"
      },
      "outputs": [
        {
          "output_type": "stream",
          "name": "stdout",
          "text": [
            "Number of nodes: 677640\n",
            "Number of edges: 834421\n"
          ]
        }
      ],
      "source": [
        "num_nodes = G.number_of_nodes()\n",
        "num_edges = G.number_of_edges()\n",
        "\n",
        "print(f\"Number of nodes: {num_nodes}\")\n",
        "print(f\"Number of edges: {num_edges}\")"
      ]
    },
    {
      "cell_type": "code",
      "source": [
        "in_degree              = dict(G.in_degree())\n",
        "out_degree             = dict(G.out_degree())\n",
        "katz_centrality        = nx.katz_centrality(G)\n",
        "betweenness_centrality = nx.betweenness_centrality(G)\n",
        "eigenvector_centrality = nx.eigenvector_centrality(G, max_iter=1000)\n",
        "pagerank               = nx.pagerank(G)\n",
        "\n",
        "# Create a DataFrame\n",
        "data = {\n",
        "    'node':        list(G.nodes),\n",
        "    'in_degree':   [in_degree[node] for node in G.nodes],\n",
        "    'out_degree':  [out_degree[node] for node in G.nodes],\n",
        "    'katz':        [katz_centrality[node] for node in G.nodes],\n",
        "    'betweenness': [betweenness_centrality[node] for node in G.nodes],\n",
        "    'eigenvector': [eigenvector_centrality[node] for node in G.nodes],\n",
        "    'pagerank':    [pagerank[node] for node in G.nodes]\n",
        "}\n",
        "\n",
        "df = pd.DataFrame(data)"
      ],
      "metadata": {
        "id": "0g3kvSwbftRN"
      },
      "id": "0g3kvSwbftRN",
      "execution_count": null,
      "outputs": []
    }
  ],
  "metadata": {
    "kernelspec": {
      "display_name": "Python 3 (ipykernel)",
      "language": "python",
      "name": "python3"
    },
    "language_info": {
      "codemirror_mode": {
        "name": "ipython",
        "version": 3
      },
      "file_extension": ".py",
      "mimetype": "text/x-python",
      "name": "python",
      "nbconvert_exporter": "python",
      "pygments_lexer": "ipython3",
      "version": "3.8.10"
    },
    "colab": {
      "provenance": []
    }
  },
  "nbformat": 4,
  "nbformat_minor": 5
}