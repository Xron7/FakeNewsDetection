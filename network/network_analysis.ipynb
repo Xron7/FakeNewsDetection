{
  "cells": [
    {
      "cell_type": "markdown",
      "id": "kaSJHzI49Ix1",
      "metadata": {
        "id": "kaSJHzI49Ix1"
      },
      "source": [
        "# Network Analysis"
      ]
    },
    {
      "cell_type": "markdown",
      "id": "Kp24aWXU9MKA",
      "metadata": {
        "id": "Kp24aWXU9MKA"
      },
      "source": [
        "## Setup"
      ]
    },
    {
      "cell_type": "code",
      "execution_count": 1,
      "id": "f111bbcf-1e99-426f-978e-5b477b9a9501",
      "metadata": {
        "id": "f111bbcf-1e99-426f-978e-5b477b9a9501"
      },
      "outputs": [],
      "source": [
        "import networkx as nx\n",
        "import pandas   as pd\n",
        "import igraph   as ig\n",
        "import os\n",
        "\n",
        "os.chdir(os.path.abspath(os.path.join(os.getcwd(), \"..\")))\n",
        "\n",
        "from config import PATH"
      ]
    },
    {
      "cell_type": "markdown",
      "id": "JM0hvISS9T6Y",
      "metadata": {
        "id": "JM0hvISS9T6Y"
      },
      "source": [
        "## Metrics Calculations"
      ]
    },
    {
      "cell_type": "code",
      "execution_count": 2,
      "id": "8625cde9-df2e-4176-8d36-cb8c4d34c027",
      "metadata": {
        "id": "8625cde9-df2e-4176-8d36-cb8c4d34c027"
      },
      "outputs": [],
      "source": [
        "G = nx.DiGraph()\n",
        "G = nx.read_edgelist(PATH + \"network.csv\", delimiter=\",\", nodetype=int, data=(('weight', float),), create_using=nx.DiGraph())"
      ]
    },
    {
      "cell_type": "code",
      "execution_count": 3,
      "id": "2aa0fa48-52b6-4d1e-bafc-1d0620012141",
      "metadata": {
        "colab": {
          "base_uri": "https://localhost:8080/"
        },
        "id": "2aa0fa48-52b6-4d1e-bafc-1d0620012141",
        "outputId": "481fa055-742f-40ab-b3b7-91e254aed580"
      },
      "outputs": [
        {
          "name": "stdout",
          "output_type": "stream",
          "text": [
            "Number of nodes: 677640\n",
            "Number of edges: 834421\n"
          ]
        }
      ],
      "source": [
        "num_nodes = G.number_of_nodes()\n",
        "num_edges = G.number_of_edges()\n",
        "\n",
        "print(f\"Number of nodes: {num_nodes}\")\n",
        "print(f\"Number of edges: {num_edges}\")"
      ]
    },
    {
      "cell_type": "code",
      "execution_count": 4,
      "id": "0g3kvSwbftRN",
      "metadata": {
        "colab": {
          "base_uri": "https://localhost:8080/",
          "height": 206
        },
        "id": "0g3kvSwbftRN",
        "outputId": "4182a3b5-396c-44fb-bbdf-e57bda60c26f"
      },
      "outputs": [
        {
          "data": {
            "text/html": [
              "<div>\n",
              "<style scoped>\n",
              "    .dataframe tbody tr th:only-of-type {\n",
              "        vertical-align: middle;\n",
              "    }\n",
              "\n",
              "    .dataframe tbody tr th {\n",
              "        vertical-align: top;\n",
              "    }\n",
              "\n",
              "    .dataframe thead th {\n",
              "        text-align: right;\n",
              "    }\n",
              "</style>\n",
              "<table border=\"1\" class=\"dataframe\">\n",
              "  <thead>\n",
              "    <tr style=\"text-align: right;\">\n",
              "      <th></th>\n",
              "      <th>node</th>\n",
              "      <th>in_degree</th>\n",
              "      <th>out_degree</th>\n",
              "      <th>katz</th>\n",
              "      <th>eigenvector</th>\n",
              "      <th>pagerank</th>\n",
              "    </tr>\n",
              "  </thead>\n",
              "  <tbody>\n",
              "    <tr>\n",
              "      <th>0</th>\n",
              "      <td>39364684</td>\n",
              "      <td>1</td>\n",
              "      <td>206</td>\n",
              "      <td>0.001174</td>\n",
              "      <td>1.926011e-14</td>\n",
              "      <td>0.000001</td>\n",
              "    </tr>\n",
              "    <tr>\n",
              "      <th>1</th>\n",
              "      <td>21061006</td>\n",
              "      <td>3</td>\n",
              "      <td>0</td>\n",
              "      <td>0.001398</td>\n",
              "      <td>3.852239e-14</td>\n",
              "      <td>0.000003</td>\n",
              "    </tr>\n",
              "    <tr>\n",
              "      <th>2</th>\n",
              "      <td>18513522</td>\n",
              "      <td>1</td>\n",
              "      <td>0</td>\n",
              "      <td>0.001163</td>\n",
              "      <td>1.925995e-14</td>\n",
              "      <td>0.000001</td>\n",
              "    </tr>\n",
              "    <tr>\n",
              "      <th>3</th>\n",
              "      <td>38251731</td>\n",
              "      <td>1</td>\n",
              "      <td>0</td>\n",
              "      <td>0.001163</td>\n",
              "      <td>1.925995e-14</td>\n",
              "      <td>0.000001</td>\n",
              "    </tr>\n",
              "    <tr>\n",
              "      <th>4</th>\n",
              "      <td>22369434</td>\n",
              "      <td>1</td>\n",
              "      <td>0</td>\n",
              "      <td>0.001163</td>\n",
              "      <td>1.925995e-14</td>\n",
              "      <td>0.000001</td>\n",
              "    </tr>\n",
              "  </tbody>\n",
              "</table>\n",
              "</div>"
            ],
            "text/plain": [
              "       node  in_degree  out_degree      katz   eigenvector  pagerank\n",
              "0  39364684          1         206  0.001174  1.926011e-14  0.000001\n",
              "1  21061006          3           0  0.001398  3.852239e-14  0.000003\n",
              "2  18513522          1           0  0.001163  1.925995e-14  0.000001\n",
              "3  38251731          1           0  0.001163  1.925995e-14  0.000001\n",
              "4  22369434          1           0  0.001163  1.925995e-14  0.000001"
            ]
          },
          "execution_count": 4,
          "metadata": {},
          "output_type": "execute_result"
        }
      ],
      "source": [
        "in_degree              = dict(G.in_degree())\n",
        "out_degree             = dict(G.out_degree())\n",
        "katz_centrality        = nx.katz_centrality(G)\n",
        "eigenvector_centrality = nx.eigenvector_centrality(G, max_iter=1000)\n",
        "pagerank               = nx.pagerank(G)\n",
        "\n",
        "data = {\n",
        "    'node':        list(G.nodes),\n",
        "    'in_degree':   [in_degree[node] for node in G.nodes],\n",
        "    'out_degree':  [out_degree[node] for node in G.nodes],\n",
        "    'katz':        [katz_centrality[node] for node in G.nodes],\n",
        "    'eigenvector': [eigenvector_centrality[node] for node in G.nodes],\n",
        "    'pagerank':    [pagerank[node] for node in G.nodes]\n",
        "}\n",
        "\n",
        "metrics_df = pd.DataFrame(data)\n",
        "metrics_df.head()"
      ]
    },
    {
      "cell_type": "markdown",
      "id": "ao1K2m1g9EBe",
      "metadata": {
        "id": "ao1K2m1g9EBe"
      },
      "source": [
        "# Betweeness with iGraph\n",
        "\n",
        "Way faster than networkx."
      ]
    },
    {
      "cell_type": "code",
      "execution_count": 6,
      "id": "dDv8Mphn2WxY",
      "metadata": {
        "colab": {
          "base_uri": "https://localhost:8080/",
          "height": 206
        },
        "id": "dDv8Mphn2WxY",
        "outputId": "23c471f8-3a32-4597-e2d5-ab047c809616"
      },
      "outputs": [
        {
          "data": {
            "text/html": [
              "<div>\n",
              "<style scoped>\n",
              "    .dataframe tbody tr th:only-of-type {\n",
              "        vertical-align: middle;\n",
              "    }\n",
              "\n",
              "    .dataframe tbody tr th {\n",
              "        vertical-align: top;\n",
              "    }\n",
              "\n",
              "    .dataframe thead th {\n",
              "        text-align: right;\n",
              "    }\n",
              "</style>\n",
              "<table border=\"1\" class=\"dataframe\">\n",
              "  <thead>\n",
              "    <tr style=\"text-align: right;\">\n",
              "      <th></th>\n",
              "      <th>source</th>\n",
              "      <th>target</th>\n",
              "      <th>weight</th>\n",
              "    </tr>\n",
              "  </thead>\n",
              "  <tbody>\n",
              "    <tr>\n",
              "      <th>0</th>\n",
              "      <td>39364684</td>\n",
              "      <td>21061006</td>\n",
              "      <td>0.45</td>\n",
              "    </tr>\n",
              "    <tr>\n",
              "      <th>1</th>\n",
              "      <td>39364684</td>\n",
              "      <td>18513522</td>\n",
              "      <td>0.85</td>\n",
              "    </tr>\n",
              "    <tr>\n",
              "      <th>2</th>\n",
              "      <td>39364684</td>\n",
              "      <td>38251731</td>\n",
              "      <td>1.15</td>\n",
              "    </tr>\n",
              "    <tr>\n",
              "      <th>3</th>\n",
              "      <td>39364684</td>\n",
              "      <td>22369434</td>\n",
              "      <td>1.20</td>\n",
              "    </tr>\n",
              "    <tr>\n",
              "      <th>4</th>\n",
              "      <td>39364684</td>\n",
              "      <td>98928660</td>\n",
              "      <td>1.40</td>\n",
              "    </tr>\n",
              "  </tbody>\n",
              "</table>\n",
              "</div>"
            ],
            "text/plain": [
              "     source    target  weight\n",
              "0  39364684  21061006    0.45\n",
              "1  39364684  18513522    0.85\n",
              "2  39364684  38251731    1.15\n",
              "3  39364684  22369434    1.20\n",
              "4  39364684  98928660    1.40"
            ]
          },
          "execution_count": 6,
          "metadata": {},
          "output_type": "execute_result"
        }
      ],
      "source": [
        "df = pd.read_csv(PATH + \"network.csv\", header = None)\n",
        "df.columns = ['source','target', 'weight']\n",
        "df[\"weight\"] = df[\"weight\"].apply(lambda x: 0.0001 if x <= 0 else x)\n",
        "\n",
        "df.head()"
      ]
    },
    {
      "cell_type": "code",
      "execution_count": 7,
      "id": "nlIfmDGe2cQv",
      "metadata": {
        "id": "nlIfmDGe2cQv"
      },
      "outputs": [],
      "source": [
        "edge_list = list(zip(df[\"source\"], df[\"target\"], df[\"weight\"]))\n",
        "G = ig.Graph.TupleList(edge_list, directed=True, edge_attrs=[\"weight\"])"
      ]
    },
    {
      "cell_type": "code",
      "execution_count": 8,
      "id": "Vjq396UO8SBr",
      "metadata": {
        "colab": {
          "base_uri": "https://localhost:8080/",
          "height": 206
        },
        "id": "Vjq396UO8SBr",
        "outputId": "c1f71515-f37e-4324-ef8c-aaaddb65390e"
      },
      "outputs": [
        {
          "data": {
            "text/html": [
              "<div>\n",
              "<style scoped>\n",
              "    .dataframe tbody tr th:only-of-type {\n",
              "        vertical-align: middle;\n",
              "    }\n",
              "\n",
              "    .dataframe tbody tr th {\n",
              "        vertical-align: top;\n",
              "    }\n",
              "\n",
              "    .dataframe thead th {\n",
              "        text-align: right;\n",
              "    }\n",
              "</style>\n",
              "<table border=\"1\" class=\"dataframe\">\n",
              "  <thead>\n",
              "    <tr style=\"text-align: right;\">\n",
              "      <th></th>\n",
              "      <th>node</th>\n",
              "      <th>betweenness</th>\n",
              "    </tr>\n",
              "  </thead>\n",
              "  <tbody>\n",
              "    <tr>\n",
              "      <th>0</th>\n",
              "      <td>39364684</td>\n",
              "      <td>742.0</td>\n",
              "    </tr>\n",
              "    <tr>\n",
              "      <th>1</th>\n",
              "      <td>21061006</td>\n",
              "      <td>0.0</td>\n",
              "    </tr>\n",
              "    <tr>\n",
              "      <th>2</th>\n",
              "      <td>18513522</td>\n",
              "      <td>0.0</td>\n",
              "    </tr>\n",
              "    <tr>\n",
              "      <th>3</th>\n",
              "      <td>38251731</td>\n",
              "      <td>0.0</td>\n",
              "    </tr>\n",
              "    <tr>\n",
              "      <th>4</th>\n",
              "      <td>22369434</td>\n",
              "      <td>0.0</td>\n",
              "    </tr>\n",
              "  </tbody>\n",
              "</table>\n",
              "</div>"
            ],
            "text/plain": [
              "       node  betweenness\n",
              "0  39364684        742.0\n",
              "1  21061006          0.0\n",
              "2  18513522          0.0\n",
              "3  38251731          0.0\n",
              "4  22369434          0.0"
            ]
          },
          "execution_count": 8,
          "metadata": {},
          "output_type": "execute_result"
        }
      ],
      "source": [
        "bt = G.betweenness(directed=True, weights=G.es[\"weight\"])\n",
        "bt_df = pd.DataFrame({\"node\": G.vs[\"name\"], \"betweenness\": bt})\n",
        "bt_df.head()"
      ]
    },
    {
      "cell_type": "markdown",
      "id": "ueN5Rhiw9ybj",
      "metadata": {
        "id": "ueN5Rhiw9ybj"
      },
      "source": [
        "## Metrics Dataframe"
      ]
    },
    {
      "cell_type": "code",
      "execution_count": 9,
      "id": "Rvx4akKV91tL",
      "metadata": {
        "colab": {
          "base_uri": "https://localhost:8080/",
          "height": 206
        },
        "id": "Rvx4akKV91tL",
        "outputId": "bfbfa458-a278-415d-89dc-7ccdbb5364ec"
      },
      "outputs": [
        {
          "data": {
            "text/html": [
              "<div>\n",
              "<style scoped>\n",
              "    .dataframe tbody tr th:only-of-type {\n",
              "        vertical-align: middle;\n",
              "    }\n",
              "\n",
              "    .dataframe tbody tr th {\n",
              "        vertical-align: top;\n",
              "    }\n",
              "\n",
              "    .dataframe thead th {\n",
              "        text-align: right;\n",
              "    }\n",
              "</style>\n",
              "<table border=\"1\" class=\"dataframe\">\n",
              "  <thead>\n",
              "    <tr style=\"text-align: right;\">\n",
              "      <th></th>\n",
              "      <th>node</th>\n",
              "      <th>in_degree</th>\n",
              "      <th>out_degree</th>\n",
              "      <th>katz</th>\n",
              "      <th>eigenvector</th>\n",
              "      <th>pagerank</th>\n",
              "      <th>betweenness</th>\n",
              "    </tr>\n",
              "  </thead>\n",
              "  <tbody>\n",
              "    <tr>\n",
              "      <th>0</th>\n",
              "      <td>39364684</td>\n",
              "      <td>1</td>\n",
              "      <td>206</td>\n",
              "      <td>0.001174</td>\n",
              "      <td>1.926011e-14</td>\n",
              "      <td>0.000001</td>\n",
              "      <td>742.0</td>\n",
              "    </tr>\n",
              "    <tr>\n",
              "      <th>1</th>\n",
              "      <td>21061006</td>\n",
              "      <td>3</td>\n",
              "      <td>0</td>\n",
              "      <td>0.001398</td>\n",
              "      <td>3.852239e-14</td>\n",
              "      <td>0.000003</td>\n",
              "      <td>0.0</td>\n",
              "    </tr>\n",
              "    <tr>\n",
              "      <th>2</th>\n",
              "      <td>18513522</td>\n",
              "      <td>1</td>\n",
              "      <td>0</td>\n",
              "      <td>0.001163</td>\n",
              "      <td>1.925995e-14</td>\n",
              "      <td>0.000001</td>\n",
              "      <td>0.0</td>\n",
              "    </tr>\n",
              "    <tr>\n",
              "      <th>3</th>\n",
              "      <td>38251731</td>\n",
              "      <td>1</td>\n",
              "      <td>0</td>\n",
              "      <td>0.001163</td>\n",
              "      <td>1.925995e-14</td>\n",
              "      <td>0.000001</td>\n",
              "      <td>0.0</td>\n",
              "    </tr>\n",
              "    <tr>\n",
              "      <th>4</th>\n",
              "      <td>22369434</td>\n",
              "      <td>1</td>\n",
              "      <td>0</td>\n",
              "      <td>0.001163</td>\n",
              "      <td>1.925995e-14</td>\n",
              "      <td>0.000001</td>\n",
              "      <td>0.0</td>\n",
              "    </tr>\n",
              "  </tbody>\n",
              "</table>\n",
              "</div>"
            ],
            "text/plain": [
              "       node  in_degree  out_degree      katz   eigenvector  pagerank  \\\n",
              "0  39364684          1         206  0.001174  1.926011e-14  0.000001   \n",
              "1  21061006          3           0  0.001398  3.852239e-14  0.000003   \n",
              "2  18513522          1           0  0.001163  1.925995e-14  0.000001   \n",
              "3  38251731          1           0  0.001163  1.925995e-14  0.000001   \n",
              "4  22369434          1           0  0.001163  1.925995e-14  0.000001   \n",
              "\n",
              "   betweenness  \n",
              "0        742.0  \n",
              "1          0.0  \n",
              "2          0.0  \n",
              "3          0.0  \n",
              "4          0.0  "
            ]
          },
          "execution_count": 9,
          "metadata": {},
          "output_type": "execute_result"
        }
      ],
      "source": [
        "metrics_df = metrics_df.merge(bt_df, on=\"node\")\n",
        "metrics_df.head()"
      ]
    },
    {
      "cell_type": "code",
      "execution_count": 10,
      "id": "5b72e8f4",
      "metadata": {},
      "outputs": [],
      "source": [
        "metrics_df.to_csv(PATH + 'graph_metrics.csv')"
      ]
    }
  ],
  "metadata": {
    "colab": {
      "provenance": []
    },
    "kernelspec": {
      "display_name": ".venv",
      "language": "python",
      "name": "python3"
    },
    "language_info": {
      "codemirror_mode": {
        "name": "ipython",
        "version": 3
      },
      "file_extension": ".py",
      "mimetype": "text/x-python",
      "name": "python",
      "nbconvert_exporter": "python",
      "pygments_lexer": "ipython3",
      "version": "3.11.9"
    }
  },
  "nbformat": 4,
  "nbformat_minor": 5
}
