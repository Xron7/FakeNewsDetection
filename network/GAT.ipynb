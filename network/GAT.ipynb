{
  "nbformat": 4,
  "nbformat_minor": 0,
  "metadata": {
    "colab": {
      "provenance": []
    },
    "kernelspec": {
      "name": "python3",
      "display_name": "Python 3"
    },
    "language_info": {
      "name": "python"
    }
  },
  "cells": [
    {
      "cell_type": "code",
      "execution_count": 1,
      "metadata": {
        "colab": {
          "base_uri": "https://localhost:8080/"
        },
        "id": "vpOAKz7sbTYI",
        "outputId": "bf7cea22-8727-42e3-8527-7b8b8b5a4543"
      },
      "outputs": [
        {
          "output_type": "stream",
          "name": "stdout",
          "text": [
            "Requirement already satisfied: torch-geometric in /usr/local/lib/python3.11/dist-packages (2.6.1)\n",
            "Requirement already satisfied: aiohttp in /usr/local/lib/python3.11/dist-packages (from torch-geometric) (3.11.12)\n",
            "Requirement already satisfied: fsspec in /usr/local/lib/python3.11/dist-packages (from torch-geometric) (2024.10.0)\n",
            "Requirement already satisfied: jinja2 in /usr/local/lib/python3.11/dist-packages (from torch-geometric) (3.1.5)\n",
            "Requirement already satisfied: numpy in /usr/local/lib/python3.11/dist-packages (from torch-geometric) (1.26.4)\n",
            "Requirement already satisfied: psutil>=5.8.0 in /usr/local/lib/python3.11/dist-packages (from torch-geometric) (5.9.5)\n",
            "Requirement already satisfied: pyparsing in /usr/local/lib/python3.11/dist-packages (from torch-geometric) (3.2.1)\n",
            "Requirement already satisfied: requests in /usr/local/lib/python3.11/dist-packages (from torch-geometric) (2.32.3)\n",
            "Requirement already satisfied: tqdm in /usr/local/lib/python3.11/dist-packages (from torch-geometric) (4.67.1)\n",
            "Requirement already satisfied: aiohappyeyeballs>=2.3.0 in /usr/local/lib/python3.11/dist-packages (from aiohttp->torch-geometric) (2.4.6)\n",
            "Requirement already satisfied: aiosignal>=1.1.2 in /usr/local/lib/python3.11/dist-packages (from aiohttp->torch-geometric) (1.3.2)\n",
            "Requirement already satisfied: attrs>=17.3.0 in /usr/local/lib/python3.11/dist-packages (from aiohttp->torch-geometric) (25.1.0)\n",
            "Requirement already satisfied: frozenlist>=1.1.1 in /usr/local/lib/python3.11/dist-packages (from aiohttp->torch-geometric) (1.5.0)\n",
            "Requirement already satisfied: multidict<7.0,>=4.5 in /usr/local/lib/python3.11/dist-packages (from aiohttp->torch-geometric) (6.1.0)\n",
            "Requirement already satisfied: propcache>=0.2.0 in /usr/local/lib/python3.11/dist-packages (from aiohttp->torch-geometric) (0.2.1)\n",
            "Requirement already satisfied: yarl<2.0,>=1.17.0 in /usr/local/lib/python3.11/dist-packages (from aiohttp->torch-geometric) (1.18.3)\n",
            "Requirement already satisfied: MarkupSafe>=2.0 in /usr/local/lib/python3.11/dist-packages (from jinja2->torch-geometric) (3.0.2)\n",
            "Requirement already satisfied: charset-normalizer<4,>=2 in /usr/local/lib/python3.11/dist-packages (from requests->torch-geometric) (3.4.1)\n",
            "Requirement already satisfied: idna<4,>=2.5 in /usr/local/lib/python3.11/dist-packages (from requests->torch-geometric) (3.10)\n",
            "Requirement already satisfied: urllib3<3,>=1.21.1 in /usr/local/lib/python3.11/dist-packages (from requests->torch-geometric) (2.3.0)\n",
            "Requirement already satisfied: certifi>=2017.4.17 in /usr/local/lib/python3.11/dist-packages (from requests->torch-geometric) (2025.1.31)\n"
          ]
        }
      ],
      "source": [
        "!pip install torch-geometric"
      ]
    },
    {
      "cell_type": "code",
      "source": [
        "import torch\n",
        "\n",
        "import pandas as pd\n",
        "\n",
        "from torch_geometric.data import Data\n",
        "from torch_geometric.nn   import GATConv"
      ],
      "metadata": {
        "id": "3tQw5eRHbYIb"
      },
      "execution_count": 2,
      "outputs": []
    },
    {
      "cell_type": "code",
      "source": [
        "# edges\n",
        "df_G = pd.read_csv('network.csv', header = None)\n",
        "df_G.columns = ['source', 'target', 'weight']\n",
        "df_G.info()"
      ],
      "metadata": {
        "colab": {
          "base_uri": "https://localhost:8080/"
        },
        "id": "ewx-H4rXb0aJ",
        "outputId": "f1fa34b4-aa2b-4075-a20d-c64e8eee1ed3"
      },
      "execution_count": 3,
      "outputs": [
        {
          "output_type": "stream",
          "name": "stdout",
          "text": [
            "<class 'pandas.core.frame.DataFrame'>\n",
            "RangeIndex: 834421 entries, 0 to 834420\n",
            "Data columns (total 3 columns):\n",
            " #   Column  Non-Null Count   Dtype  \n",
            "---  ------  --------------   -----  \n",
            " 0   source  834421 non-null  int64  \n",
            " 1   target  834421 non-null  int64  \n",
            " 2   weight  834421 non-null  float64\n",
            "dtypes: float64(1), int64(2)\n",
            "memory usage: 19.1 MB\n"
          ]
        }
      ]
    },
    {
      "cell_type": "code",
      "source": [
        "# features\n",
        "df_nodes = pd.read_csv('node_features.csv')\n",
        "df_nodes.info()"
      ],
      "metadata": {
        "colab": {
          "base_uri": "https://localhost:8080/"
        },
        "id": "rP8UACQutVm_",
        "outputId": "463cb122-a8f8-4ab1-9bc5-a6836e13d89e"
      },
      "execution_count": 4,
      "outputs": [
        {
          "output_type": "stream",
          "name": "stdout",
          "text": [
            "<class 'pandas.core.frame.DataFrame'>\n",
            "RangeIndex: 677640 entries, 0 to 677639\n",
            "Data columns (total 13 columns):\n",
            " #   Column               Non-Null Count   Dtype  \n",
            "---  ------               --------------   -----  \n",
            " 0   user_id              677640 non-null  int64  \n",
            " 1   user_rt              677640 non-null  int64  \n",
            " 2   num_post             677640 non-null  int64  \n",
            " 3   user_time_rt         677640 non-null  float64\n",
            " 4   num_post_unverified  677640 non-null  int64  \n",
            " 5   num_post_non-rumor   677640 non-null  int64  \n",
            " 6   num_post_true        677640 non-null  int64  \n",
            " 7   num_post_false       677640 non-null  int64  \n",
            " 8   num_rt_unverified    677640 non-null  int64  \n",
            " 9   num_rt_non-rumor     677640 non-null  int64  \n",
            " 10  num_rt_true          677640 non-null  int64  \n",
            " 11  num_rt_false         677640 non-null  int64  \n",
            " 12  score                677640 non-null  float64\n",
            "dtypes: float64(2), int64(11)\n",
            "memory usage: 67.2 MB\n"
          ]
        }
      ]
    },
    {
      "cell_type": "code",
      "source": [
        "df_nodes = df_nodes.drop(columns=['score'])"
      ],
      "metadata": {
        "id": "aDqzgT2hwN9v"
      },
      "execution_count": 5,
      "outputs": []
    },
    {
      "cell_type": "code",
      "source": [
        "# they need to increment from 0\n",
        "nodes = df_nodes['user_id'].tolist()\n",
        "node_map = {node: idx for idx, node in enumerate(nodes)}"
      ],
      "metadata": {
        "id": "aGjIsmT7dZdu"
      },
      "execution_count": 6,
      "outputs": []
    },
    {
      "cell_type": "code",
      "source": [
        "# edges tensor\n",
        "edge_index = torch.tensor([[node_map[src] for src in df_G[\"source\"]],\n",
        "                           [node_map[tgt] for tgt in df_G[\"target\"]]], dtype=torch.long)\n",
        "edge_index.shape"
      ],
      "metadata": {
        "colab": {
          "base_uri": "https://localhost:8080/"
        },
        "id": "_9G2kK9PeqhZ",
        "outputId": "e256cefc-5d66-4dd1-da80-6b35cb12cb71"
      },
      "execution_count": 7,
      "outputs": [
        {
          "output_type": "execute_result",
          "data": {
            "text/plain": [
              "torch.Size([2, 834421])"
            ]
          },
          "metadata": {},
          "execution_count": 7
        }
      ]
    },
    {
      "cell_type": "code",
      "source": [
        "# weights tensor\n",
        "edge_weight = torch.tensor(df_G[\"weight\"].values, dtype=torch.float)\n",
        "edge_weight.shape"
      ],
      "metadata": {
        "colab": {
          "base_uri": "https://localhost:8080/"
        },
        "id": "W6r-GR4ie3Me",
        "outputId": "bb5ac4bf-8c17-403a-9dc7-485079f41216"
      },
      "execution_count": 8,
      "outputs": [
        {
          "output_type": "execute_result",
          "data": {
            "text/plain": [
              "torch.Size([834421])"
            ]
          },
          "metadata": {},
          "execution_count": 8
        }
      ]
    },
    {
      "cell_type": "code",
      "source": [
        "# features tensor\n",
        "node_features = torch.tensor(df_nodes.values, dtype=torch.float)\n",
        "node_features.shape"
      ],
      "metadata": {
        "colab": {
          "base_uri": "https://localhost:8080/"
        },
        "id": "epK-wXocvqnB",
        "outputId": "cd9910e1-9e10-429f-e11e-87284e0dabd8"
      },
      "execution_count": 10,
      "outputs": [
        {
          "output_type": "execute_result",
          "data": {
            "text/plain": [
              "torch.Size([677640, 12])"
            ]
          },
          "metadata": {},
          "execution_count": 10
        }
      ]
    },
    {
      "cell_type": "code",
      "source": [
        "data = Data(x = node_features, edge_index=edge_index, edge_attr=edge_weight)\n",
        "data"
      ],
      "metadata": {
        "id": "0yfbNtcafHgt",
        "colab": {
          "base_uri": "https://localhost:8080/"
        },
        "outputId": "e2e78b80-88b1-4119-fd02-61c47ee5aaba"
      },
      "execution_count": 12,
      "outputs": [
        {
          "output_type": "execute_result",
          "data": {
            "text/plain": [
              "Data(x=[677640, 12], edge_index=[2, 834421], edge_attr=[834421])"
            ]
          },
          "metadata": {},
          "execution_count": 12
        }
      ]
    },
    {
      "cell_type": "code",
      "source": [
        "# architecture\n",
        "class GAT(torch.nn.Module):\n",
        "    def __init__(self, in_channels, out_channels, heads=1):\n",
        "        super(GAT, self).__init__()\n",
        "        self.gat = GATConv(in_channels, out_channels, heads=heads, concat=False)\n",
        "\n",
        "\n",
        "    def forward(self, x, edge_index, edge_attr):\n",
        "        x, attention_weights = self.gat(x, edge_index, return_attention_weights=True)\n",
        "        return x, attention_weights"
      ],
      "metadata": {
        "id": "gKpCeubfe-hg"
      },
      "execution_count": 19,
      "outputs": []
    },
    {
      "cell_type": "code",
      "source": [
        "model  = GAT(in_channels=node_features.shape[1], out_channels=2)\n",
        "model"
      ],
      "metadata": {
        "id": "ZbAsqUhgfB6L",
        "colab": {
          "base_uri": "https://localhost:8080/"
        },
        "outputId": "5b181c9b-8375-4b60-a7d8-57613aa43448"
      },
      "execution_count": 20,
      "outputs": [
        {
          "output_type": "execute_result",
          "data": {
            "text/plain": [
              "GAT(\n",
              "  (gat): GATConv(12, 2, heads=1)\n",
              ")"
            ]
          },
          "metadata": {},
          "execution_count": 20
        }
      ]
    },
    {
      "cell_type": "code",
      "source": [
        "def train_model(model, lr = 0.01, epochs = 100):\n",
        "\n",
        "  optimizer = torch.optim.Adam(model.parameters(), lr=lr)\n",
        "\n",
        "  for epoch in range(epochs):\n",
        "    model.train()\n",
        "    optimizer.zero_grad()\n",
        "    node_embeddings, attention_weights = model(data.x, data.edge_index, data.edge_attr)\n",
        "    loss = torch.mean(attention_weights[1])\n",
        "    loss.backward()\n",
        "    optimizer.step()\n",
        "\n",
        "    if epoch % 10 == 0:\n",
        "        print(f\"Epoch {epoch + 1}, Loss: {loss.item()}\")\n",
        "\n",
        "  return attention_weights"
      ],
      "metadata": {
        "id": "1Kf5wWEKDLV3"
      },
      "execution_count": 24,
      "outputs": []
    },
    {
      "cell_type": "code",
      "source": [
        "train_model(model, epochs = 10)[1].shape"
      ],
      "metadata": {
        "colab": {
          "base_uri": "https://localhost:8080/"
        },
        "id": "fUwfo8Kicuoq",
        "outputId": "fb86f320-8e53-43b5-9186-71ecf599ac2e"
      },
      "execution_count": 27,
      "outputs": [
        {
          "output_type": "stream",
          "name": "stdout",
          "text": [
            "Epoch 1, Loss: 0.4484439194202423\n"
          ]
        },
        {
          "output_type": "execute_result",
          "data": {
            "text/plain": [
              "torch.Size([1511092, 1])"
            ]
          },
          "metadata": {},
          "execution_count": 27
        }
      ]
    }
  ]
}