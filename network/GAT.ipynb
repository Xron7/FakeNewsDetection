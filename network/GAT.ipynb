{
  "nbformat": 4,
  "nbformat_minor": 0,
  "metadata": {
    "colab": {
      "provenance": []
    },
    "kernelspec": {
      "name": "python3",
      "display_name": "Python 3"
    },
    "language_info": {
      "name": "python"
    }
  },
  "cells": [
    {
      "cell_type": "code",
      "execution_count": null,
      "metadata": {
        "colab": {
          "base_uri": "https://localhost:8080/"
        },
        "id": "vpOAKz7sbTYI",
        "outputId": "5d971eca-c2da-49cd-f93e-c6807d221865"
      },
      "outputs": [
        {
          "output_type": "stream",
          "name": "stdout",
          "text": [
            "Requirement already satisfied: torch-geometric in /usr/local/lib/python3.11/dist-packages (2.6.1)\n",
            "Requirement already satisfied: aiohttp in /usr/local/lib/python3.11/dist-packages (from torch-geometric) (3.11.12)\n",
            "Requirement already satisfied: fsspec in /usr/local/lib/python3.11/dist-packages (from torch-geometric) (2024.10.0)\n",
            "Requirement already satisfied: jinja2 in /usr/local/lib/python3.11/dist-packages (from torch-geometric) (3.1.5)\n",
            "Requirement already satisfied: numpy in /usr/local/lib/python3.11/dist-packages (from torch-geometric) (1.26.4)\n",
            "Requirement already satisfied: psutil>=5.8.0 in /usr/local/lib/python3.11/dist-packages (from torch-geometric) (5.9.5)\n",
            "Requirement already satisfied: pyparsing in /usr/local/lib/python3.11/dist-packages (from torch-geometric) (3.2.1)\n",
            "Requirement already satisfied: requests in /usr/local/lib/python3.11/dist-packages (from torch-geometric) (2.32.3)\n",
            "Requirement already satisfied: tqdm in /usr/local/lib/python3.11/dist-packages (from torch-geometric) (4.67.1)\n",
            "Requirement already satisfied: aiohappyeyeballs>=2.3.0 in /usr/local/lib/python3.11/dist-packages (from aiohttp->torch-geometric) (2.4.6)\n",
            "Requirement already satisfied: aiosignal>=1.1.2 in /usr/local/lib/python3.11/dist-packages (from aiohttp->torch-geometric) (1.3.2)\n",
            "Requirement already satisfied: attrs>=17.3.0 in /usr/local/lib/python3.11/dist-packages (from aiohttp->torch-geometric) (25.1.0)\n",
            "Requirement already satisfied: frozenlist>=1.1.1 in /usr/local/lib/python3.11/dist-packages (from aiohttp->torch-geometric) (1.5.0)\n",
            "Requirement already satisfied: multidict<7.0,>=4.5 in /usr/local/lib/python3.11/dist-packages (from aiohttp->torch-geometric) (6.1.0)\n",
            "Requirement already satisfied: propcache>=0.2.0 in /usr/local/lib/python3.11/dist-packages (from aiohttp->torch-geometric) (0.2.1)\n",
            "Requirement already satisfied: yarl<2.0,>=1.17.0 in /usr/local/lib/python3.11/dist-packages (from aiohttp->torch-geometric) (1.18.3)\n",
            "Requirement already satisfied: MarkupSafe>=2.0 in /usr/local/lib/python3.11/dist-packages (from jinja2->torch-geometric) (3.0.2)\n",
            "Requirement already satisfied: charset-normalizer<4,>=2 in /usr/local/lib/python3.11/dist-packages (from requests->torch-geometric) (3.4.1)\n",
            "Requirement already satisfied: idna<4,>=2.5 in /usr/local/lib/python3.11/dist-packages (from requests->torch-geometric) (3.10)\n",
            "Requirement already satisfied: urllib3<3,>=1.21.1 in /usr/local/lib/python3.11/dist-packages (from requests->torch-geometric) (2.3.0)\n",
            "Requirement already satisfied: certifi>=2017.4.17 in /usr/local/lib/python3.11/dist-packages (from requests->torch-geometric) (2025.1.31)\n"
          ]
        }
      ],
      "source": [
        "!pip install torch-geometric"
      ]
    },
    {
      "cell_type": "code",
      "source": [
        "import torch\n",
        "\n",
        "import pandas as pd\n",
        "\n",
        "from torch_geometric.data import Data\n",
        "from torch_geometric.nn   import GATConv\n",
        "from tqdm                 import tqdm"
      ],
      "metadata": {
        "id": "3tQw5eRHbYIb"
      },
      "execution_count": null,
      "outputs": []
    },
    {
      "cell_type": "code",
      "source": [
        "# edges\n",
        "df_G = pd.read_csv('network.csv', header = None)\n",
        "df_G.columns = ['source', 'target', 'weight']\n",
        "df_G.info()"
      ],
      "metadata": {
        "colab": {
          "base_uri": "https://localhost:8080/"
        },
        "id": "ewx-H4rXb0aJ",
        "outputId": "8f76db8d-6dae-4806-fd6a-17b1e5530e61"
      },
      "execution_count": null,
      "outputs": [
        {
          "output_type": "stream",
          "name": "stdout",
          "text": [
            "<class 'pandas.core.frame.DataFrame'>\n",
            "RangeIndex: 834421 entries, 0 to 834420\n",
            "Data columns (total 3 columns):\n",
            " #   Column  Non-Null Count   Dtype  \n",
            "---  ------  --------------   -----  \n",
            " 0   source  834421 non-null  int64  \n",
            " 1   target  834421 non-null  int64  \n",
            " 2   weight  834421 non-null  float64\n",
            "dtypes: float64(1), int64(2)\n",
            "memory usage: 19.1 MB\n"
          ]
        }
      ]
    },
    {
      "cell_type": "code",
      "source": [
        "# features\n",
        "df_nodes = pd.read_csv('node_features.csv')\n",
        "df_nodes.info()"
      ],
      "metadata": {
        "colab": {
          "base_uri": "https://localhost:8080/"
        },
        "id": "rP8UACQutVm_",
        "outputId": "660c16e5-891a-4424-9c97-ee85b4a9af69"
      },
      "execution_count": null,
      "outputs": [
        {
          "output_type": "stream",
          "name": "stdout",
          "text": [
            "<class 'pandas.core.frame.DataFrame'>\n",
            "RangeIndex: 677640 entries, 0 to 677639\n",
            "Data columns (total 13 columns):\n",
            " #   Column               Non-Null Count   Dtype  \n",
            "---  ------               --------------   -----  \n",
            " 0   user_id              677640 non-null  int64  \n",
            " 1   user_rt              677640 non-null  int64  \n",
            " 2   num_post             677640 non-null  int64  \n",
            " 3   user_time_rt         677640 non-null  float64\n",
            " 4   num_post_unverified  677640 non-null  int64  \n",
            " 5   num_post_non-rumor   677640 non-null  int64  \n",
            " 6   num_post_true        677640 non-null  int64  \n",
            " 7   num_post_false       677640 non-null  int64  \n",
            " 8   num_rt_unverified    677640 non-null  int64  \n",
            " 9   num_rt_non-rumor     677640 non-null  int64  \n",
            " 10  num_rt_true          677640 non-null  int64  \n",
            " 11  num_rt_false         677640 non-null  int64  \n",
            " 12  score                677640 non-null  float64\n",
            "dtypes: float64(2), int64(11)\n",
            "memory usage: 67.2 MB\n"
          ]
        }
      ]
    },
    {
      "cell_type": "code",
      "source": [
        "df_nodes = df_nodes.drop(columns=['score'])"
      ],
      "metadata": {
        "id": "aDqzgT2hwN9v"
      },
      "execution_count": null,
      "outputs": []
    },
    {
      "cell_type": "code",
      "source": [
        "# they need to increment from 0\n",
        "nodes = df_nodes['user_id'].tolist()\n",
        "node_map = {node: idx for idx, node in enumerate(nodes)}"
      ],
      "metadata": {
        "id": "aGjIsmT7dZdu"
      },
      "execution_count": null,
      "outputs": []
    },
    {
      "cell_type": "code",
      "source": [
        "# edges tensor\n",
        "edge_index = torch.tensor([[node_map[src] for src in df_G[\"source\"]],\n",
        "                           [node_map[tgt] for tgt in df_G[\"target\"]]], dtype=torch.long)\n",
        "edge_index.shape"
      ],
      "metadata": {
        "colab": {
          "base_uri": "https://localhost:8080/"
        },
        "id": "_9G2kK9PeqhZ",
        "outputId": "8fdf30f1-4894-49b3-b8f1-70a9acfdb8d6"
      },
      "execution_count": null,
      "outputs": [
        {
          "output_type": "execute_result",
          "data": {
            "text/plain": [
              "torch.Size([2, 834421])"
            ]
          },
          "metadata": {},
          "execution_count": 7
        }
      ]
    },
    {
      "cell_type": "code",
      "source": [
        "# weights tensor\n",
        "edge_weight = torch.tensor(df_G[\"weight\"].values, dtype=torch.float)\n",
        "edge_weight.shape"
      ],
      "metadata": {
        "colab": {
          "base_uri": "https://localhost:8080/"
        },
        "id": "W6r-GR4ie3Me",
        "outputId": "2547e7c9-d4d3-4354-8552-02ab61e4b3db"
      },
      "execution_count": null,
      "outputs": [
        {
          "output_type": "execute_result",
          "data": {
            "text/plain": [
              "torch.Size([834421])"
            ]
          },
          "metadata": {},
          "execution_count": 8
        }
      ]
    },
    {
      "cell_type": "code",
      "source": [
        "# features tensor\n",
        "node_features = torch.tensor(df_nodes.values, dtype=torch.float)\n",
        "node_features.shape"
      ],
      "metadata": {
        "colab": {
          "base_uri": "https://localhost:8080/"
        },
        "id": "epK-wXocvqnB",
        "outputId": "a4d0fb98-ce40-4d1e-8ba9-3456ad046979"
      },
      "execution_count": null,
      "outputs": [
        {
          "output_type": "execute_result",
          "data": {
            "text/plain": [
              "torch.Size([677640, 12])"
            ]
          },
          "metadata": {},
          "execution_count": 9
        }
      ]
    },
    {
      "cell_type": "code",
      "source": [
        "data = Data(x = node_features, edge_index=edge_index, edge_attr=edge_weight)\n",
        "data"
      ],
      "metadata": {
        "id": "0yfbNtcafHgt",
        "colab": {
          "base_uri": "https://localhost:8080/"
        },
        "outputId": "c624d194-f9f2-477b-c249-b7b269ac1af5"
      },
      "execution_count": null,
      "outputs": [
        {
          "output_type": "execute_result",
          "data": {
            "text/plain": [
              "Data(x=[677640, 12], edge_index=[2, 834421], edge_attr=[834421])"
            ]
          },
          "metadata": {},
          "execution_count": 10
        }
      ]
    },
    {
      "cell_type": "code",
      "source": [
        "# architecture\n",
        "class GAT(torch.nn.Module):\n",
        "    def __init__(self, in_channels, out_channels, layer_size = 128, heads=1):\n",
        "        super(GAT, self).__init__()\n",
        "        self.gat1 = GATConv(in_channels, layer_size, heads=heads, concat=False)\n",
        "        self.gat2 = GATConv(layer_size, out_channels, heads=heads, concat=False)\n",
        "\n",
        "    def forward(self, x, edge_index, edge_attr):\n",
        "        x = self.gat1(x, edge_index)\n",
        "        x, attention_weights = self.gat2(x, edge_index, return_attention_weights=True)\n",
        "        return x, attention_weights"
      ],
      "metadata": {
        "id": "gKpCeubfe-hg"
      },
      "execution_count": null,
      "outputs": []
    },
    {
      "cell_type": "code",
      "source": [
        "model  = GAT(in_channels=node_features.shape[1], out_channels=1)\n",
        "model"
      ],
      "metadata": {
        "id": "ZbAsqUhgfB6L",
        "colab": {
          "base_uri": "https://localhost:8080/"
        },
        "outputId": "66faeb0d-63a6-4f48-8c19-cd0887765cb0"
      },
      "execution_count": null,
      "outputs": [
        {
          "output_type": "execute_result",
          "data": {
            "text/plain": [
              "GAT(\n",
              "  (gat1): GATConv(12, 128, heads=1)\n",
              "  (gat2): GATConv(128, 1, heads=1)\n",
              ")"
            ]
          },
          "metadata": {},
          "execution_count": 12
        }
      ]
    },
    {
      "cell_type": "code",
      "source": [
        "def train_model(model, lr = 0.01, epochs = 100):\n",
        "\n",
        "  optimizer = torch.optim.Adam(model.parameters(), lr=lr)\n",
        "\n",
        "  for epoch in range(epochs):\n",
        "    model.train()\n",
        "    optimizer.zero_grad()\n",
        "    node_embeddings, attention_weights = model(data.x, data.edge_index, data.edge_attr)\n",
        "    loss = torch.mean(attention_weights[1])\n",
        "    loss.backward()\n",
        "    optimizer.step()\n",
        "\n",
        "    if epoch % 10 == 0:\n",
        "        print(f\"Epoch {epoch + 1}, Loss: {loss.item()}\")\n",
        "\n",
        "  return attention_weights"
      ],
      "metadata": {
        "id": "1Kf5wWEKDLV3"
      },
      "execution_count": null,
      "outputs": []
    },
    {
      "cell_type": "code",
      "source": [
        "attention_weights = train_model(model)"
      ],
      "metadata": {
        "colab": {
          "base_uri": "https://localhost:8080/"
        },
        "id": "fUwfo8Kicuoq",
        "outputId": "3e347448-eba3-415f-c7a8-c2cba61aaf78"
      },
      "execution_count": null,
      "outputs": [
        {
          "output_type": "stream",
          "name": "stdout",
          "text": [
            "Epoch 1, Loss: 0.4484439492225647\n",
            "Epoch 11, Loss: 0.4484439194202423\n",
            "Epoch 21, Loss: 0.4484439194202423\n",
            "Epoch 31, Loss: 0.4484439194202423\n",
            "Epoch 41, Loss: 0.4484439194202423\n",
            "Epoch 51, Loss: 0.4484439194202423\n",
            "Epoch 61, Loss: 0.4484439194202423\n",
            "Epoch 71, Loss: 0.4484439194202423\n",
            "Epoch 81, Loss: 0.4484439194202423\n",
            "Epoch 91, Loss: 0.4484439194202423\n"
          ]
        }
      ]
    },
    {
      "cell_type": "code",
      "source": [
        "attention_weights[1].shape"
      ],
      "metadata": {
        "colab": {
          "base_uri": "https://localhost:8080/"
        },
        "id": "_viHapdgzDZ8",
        "outputId": "26f6e784-1171-483a-c22d-b747c6a2b584"
      },
      "execution_count": null,
      "outputs": [
        {
          "output_type": "execute_result",
          "data": {
            "text/plain": [
              "torch.Size([1511092, 1])"
            ]
          },
          "metadata": {},
          "execution_count": 15
        }
      ]
    },
    {
      "cell_type": "code",
      "source": [
        "attention_scores = attention_weights[1].sum(dim=-1)\n",
        "\n",
        "src, dst = data.edge_index\n",
        "node_importance = torch.zeros(len(nodes), device=attention_scores.device)\n",
        "\n",
        "with torch.no_grad():\n",
        "  node_importance.scatter_add_(0, src, attention_scores)\n",
        "  node_importance.scatter_add_(0, dst, attention_scores)"
      ],
      "metadata": {
        "id": "zPMUaa5KzKH9"
      },
      "execution_count": null,
      "outputs": []
    },
    {
      "cell_type": "code",
      "source": [
        "top_nodes = torch.topk(node_importance, k=10).indices.tolist()\n",
        "top_nodes"
      ],
      "metadata": {
        "colab": {
          "base_uri": "https://localhost:8080/"
        },
        "id": "NafIdmfVajx8",
        "outputId": "2b9d169d-96c5-4867-d1b4-349f996dc0c5"
      },
      "execution_count": null,
      "outputs": [
        {
          "output_type": "execute_result",
          "data": {
            "text/plain": [
              "[353527, 549576, 265236, 66655, 479813, 326906, 325813, 226295, 60311, 636187]"
            ]
          },
          "metadata": {},
          "execution_count": 18
        }
      ]
    }
  ]
}