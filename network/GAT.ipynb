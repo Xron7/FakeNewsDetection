{
  "nbformat": 4,
  "nbformat_minor": 0,
  "metadata": {
    "colab": {
      "provenance": []
    },
    "kernelspec": {
      "name": "python3",
      "display_name": "Python 3"
    },
    "language_info": {
      "name": "python"
    }
  },
  "cells": [
    {
      "cell_type": "code",
      "execution_count": 2,
      "metadata": {
        "colab": {
          "base_uri": "https://localhost:8080/"
        },
        "id": "vpOAKz7sbTYI",
        "outputId": "ffd71177-6c7c-458b-d629-cf62d6f88802"
      },
      "outputs": [
        {
          "output_type": "stream",
          "name": "stdout",
          "text": [
            "Requirement already satisfied: torch-geometric in /usr/local/lib/python3.11/dist-packages (2.6.1)\n",
            "Requirement already satisfied: aiohttp in /usr/local/lib/python3.11/dist-packages (from torch-geometric) (3.11.12)\n",
            "Requirement already satisfied: fsspec in /usr/local/lib/python3.11/dist-packages (from torch-geometric) (2024.10.0)\n",
            "Requirement already satisfied: jinja2 in /usr/local/lib/python3.11/dist-packages (from torch-geometric) (3.1.5)\n",
            "Requirement already satisfied: numpy in /usr/local/lib/python3.11/dist-packages (from torch-geometric) (1.26.4)\n",
            "Requirement already satisfied: psutil>=5.8.0 in /usr/local/lib/python3.11/dist-packages (from torch-geometric) (5.9.5)\n",
            "Requirement already satisfied: pyparsing in /usr/local/lib/python3.11/dist-packages (from torch-geometric) (3.2.1)\n",
            "Requirement already satisfied: requests in /usr/local/lib/python3.11/dist-packages (from torch-geometric) (2.32.3)\n",
            "Requirement already satisfied: tqdm in /usr/local/lib/python3.11/dist-packages (from torch-geometric) (4.67.1)\n",
            "Requirement already satisfied: aiohappyeyeballs>=2.3.0 in /usr/local/lib/python3.11/dist-packages (from aiohttp->torch-geometric) (2.4.6)\n",
            "Requirement already satisfied: aiosignal>=1.1.2 in /usr/local/lib/python3.11/dist-packages (from aiohttp->torch-geometric) (1.3.2)\n",
            "Requirement already satisfied: attrs>=17.3.0 in /usr/local/lib/python3.11/dist-packages (from aiohttp->torch-geometric) (25.1.0)\n",
            "Requirement already satisfied: frozenlist>=1.1.1 in /usr/local/lib/python3.11/dist-packages (from aiohttp->torch-geometric) (1.5.0)\n",
            "Requirement already satisfied: multidict<7.0,>=4.5 in /usr/local/lib/python3.11/dist-packages (from aiohttp->torch-geometric) (6.1.0)\n",
            "Requirement already satisfied: propcache>=0.2.0 in /usr/local/lib/python3.11/dist-packages (from aiohttp->torch-geometric) (0.2.1)\n",
            "Requirement already satisfied: yarl<2.0,>=1.17.0 in /usr/local/lib/python3.11/dist-packages (from aiohttp->torch-geometric) (1.18.3)\n",
            "Requirement already satisfied: MarkupSafe>=2.0 in /usr/local/lib/python3.11/dist-packages (from jinja2->torch-geometric) (3.0.2)\n",
            "Requirement already satisfied: charset-normalizer<4,>=2 in /usr/local/lib/python3.11/dist-packages (from requests->torch-geometric) (3.4.1)\n",
            "Requirement already satisfied: idna<4,>=2.5 in /usr/local/lib/python3.11/dist-packages (from requests->torch-geometric) (3.10)\n",
            "Requirement already satisfied: urllib3<3,>=1.21.1 in /usr/local/lib/python3.11/dist-packages (from requests->torch-geometric) (2.3.0)\n",
            "Requirement already satisfied: certifi>=2017.4.17 in /usr/local/lib/python3.11/dist-packages (from requests->torch-geometric) (2025.1.31)\n"
          ]
        }
      ],
      "source": [
        "!pip install torch-geometric"
      ]
    },
    {
      "cell_type": "code",
      "source": [
        "import torch\n",
        "\n",
        "import pandas as pd\n",
        "\n",
        "from torch_geometric.data import Data\n",
        "from torch_geometric.nn   import GATConv\n",
        "from tqdm                 import tqdm"
      ],
      "metadata": {
        "id": "3tQw5eRHbYIb"
      },
      "execution_count": 3,
      "outputs": []
    },
    {
      "cell_type": "code",
      "source": [
        "# edges\n",
        "df_G = pd.read_csv('network.csv', header = None)\n",
        "df_G.columns = ['source', 'target', 'weight']\n",
        "df_G.info()"
      ],
      "metadata": {
        "colab": {
          "base_uri": "https://localhost:8080/"
        },
        "id": "ewx-H4rXb0aJ",
        "outputId": "8e3d6072-9c3a-4c05-bfe1-dd4577509857"
      },
      "execution_count": 4,
      "outputs": [
        {
          "output_type": "stream",
          "name": "stdout",
          "text": [
            "<class 'pandas.core.frame.DataFrame'>\n",
            "RangeIndex: 834421 entries, 0 to 834420\n",
            "Data columns (total 3 columns):\n",
            " #   Column  Non-Null Count   Dtype  \n",
            "---  ------  --------------   -----  \n",
            " 0   source  834421 non-null  int64  \n",
            " 1   target  834421 non-null  int64  \n",
            " 2   weight  834421 non-null  float64\n",
            "dtypes: float64(1), int64(2)\n",
            "memory usage: 19.1 MB\n"
          ]
        }
      ]
    },
    {
      "cell_type": "code",
      "source": [
        "# features\n",
        "df_nodes = pd.read_csv('node_features.csv')\n",
        "df_nodes.info()"
      ],
      "metadata": {
        "colab": {
          "base_uri": "https://localhost:8080/"
        },
        "id": "rP8UACQutVm_",
        "outputId": "68cd2a91-3194-4de6-b4ad-3885b147cc79"
      },
      "execution_count": 5,
      "outputs": [
        {
          "output_type": "stream",
          "name": "stdout",
          "text": [
            "<class 'pandas.core.frame.DataFrame'>\n",
            "RangeIndex: 677640 entries, 0 to 677639\n",
            "Data columns (total 13 columns):\n",
            " #   Column               Non-Null Count   Dtype  \n",
            "---  ------               --------------   -----  \n",
            " 0   user_id              677640 non-null  int64  \n",
            " 1   user_rt              677640 non-null  int64  \n",
            " 2   num_post             677640 non-null  int64  \n",
            " 3   user_time_rt         677640 non-null  float64\n",
            " 4   num_post_unverified  677640 non-null  int64  \n",
            " 5   num_post_non-rumor   677640 non-null  int64  \n",
            " 6   num_post_true        677640 non-null  int64  \n",
            " 7   num_post_false       677640 non-null  int64  \n",
            " 8   num_rt_unverified    677640 non-null  int64  \n",
            " 9   num_rt_non-rumor     677640 non-null  int64  \n",
            " 10  num_rt_true          677640 non-null  int64  \n",
            " 11  num_rt_false         677640 non-null  int64  \n",
            " 12  score                677640 non-null  float64\n",
            "dtypes: float64(2), int64(11)\n",
            "memory usage: 67.2 MB\n"
          ]
        }
      ]
    },
    {
      "cell_type": "code",
      "source": [
        "df_nodes = df_nodes.drop(columns=['score'])"
      ],
      "metadata": {
        "id": "aDqzgT2hwN9v"
      },
      "execution_count": 6,
      "outputs": []
    },
    {
      "cell_type": "code",
      "source": [
        "# they need to increment from 0\n",
        "nodes = df_nodes['user_id'].tolist()\n",
        "node2idx = {node: idx for idx, node in enumerate(nodes)}"
      ],
      "metadata": {
        "id": "aGjIsmT7dZdu"
      },
      "execution_count": 7,
      "outputs": []
    },
    {
      "cell_type": "code",
      "source": [
        "# edges tensor\n",
        "edge_index = torch.tensor([[node2idx[src] for src in df_G[\"source\"]],\n",
        "                           [node2idx[tgt] for tgt in df_G[\"target\"]]], dtype=torch.long)\n",
        "edge_index.shape"
      ],
      "metadata": {
        "colab": {
          "base_uri": "https://localhost:8080/"
        },
        "id": "_9G2kK9PeqhZ",
        "outputId": "6d05f328-f9b1-4802-f2d6-1cdf2c9e082a"
      },
      "execution_count": 8,
      "outputs": [
        {
          "output_type": "execute_result",
          "data": {
            "text/plain": [
              "torch.Size([2, 834421])"
            ]
          },
          "metadata": {},
          "execution_count": 8
        }
      ]
    },
    {
      "cell_type": "code",
      "source": [
        "# weights tensor\n",
        "edge_weight = torch.tensor(df_G[\"weight\"].values, dtype=torch.float)\n",
        "edge_weight.shape"
      ],
      "metadata": {
        "colab": {
          "base_uri": "https://localhost:8080/"
        },
        "id": "W6r-GR4ie3Me",
        "outputId": "5d1fa7cb-9fb9-446b-8955-343a5dbfd518"
      },
      "execution_count": 9,
      "outputs": [
        {
          "output_type": "execute_result",
          "data": {
            "text/plain": [
              "torch.Size([834421])"
            ]
          },
          "metadata": {},
          "execution_count": 9
        }
      ]
    },
    {
      "cell_type": "code",
      "source": [
        "# features tensor\n",
        "node_features = torch.tensor(df_nodes.values, dtype=torch.float)\n",
        "node_features.shape"
      ],
      "metadata": {
        "colab": {
          "base_uri": "https://localhost:8080/"
        },
        "id": "epK-wXocvqnB",
        "outputId": "0fe2acd5-af0d-4370-d734-92b9ac977382"
      },
      "execution_count": 10,
      "outputs": [
        {
          "output_type": "execute_result",
          "data": {
            "text/plain": [
              "torch.Size([677640, 12])"
            ]
          },
          "metadata": {},
          "execution_count": 10
        }
      ]
    },
    {
      "cell_type": "code",
      "source": [
        "data = Data(x = node_features, edge_index=edge_index, edge_attr=edge_weight)\n",
        "data"
      ],
      "metadata": {
        "id": "0yfbNtcafHgt",
        "colab": {
          "base_uri": "https://localhost:8080/"
        },
        "outputId": "d9d503cc-2c42-4688-d0b9-828951760d7e"
      },
      "execution_count": 11,
      "outputs": [
        {
          "output_type": "execute_result",
          "data": {
            "text/plain": [
              "Data(x=[677640, 12], edge_index=[2, 834421], edge_attr=[834421])"
            ]
          },
          "metadata": {},
          "execution_count": 11
        }
      ]
    },
    {
      "cell_type": "code",
      "source": [
        "# architecture\n",
        "class GAT(torch.nn.Module):\n",
        "    def __init__(self, in_channels, out_channels, layer_size = 128, heads=1):\n",
        "        super(GAT, self).__init__()\n",
        "        self.gat1 = GATConv(in_channels, layer_size, heads=heads, concat=False)\n",
        "        self.gat2 = GATConv(layer_size, out_channels, heads=heads, concat=False)\n",
        "\n",
        "    def forward(self, x, edge_index, edge_attr):\n",
        "        x = self.gat1(x, edge_index)\n",
        "        x, attention_weights = self.gat2(x, edge_index, return_attention_weights=True)\n",
        "        return x, attention_weights"
      ],
      "metadata": {
        "id": "gKpCeubfe-hg"
      },
      "execution_count": 12,
      "outputs": []
    },
    {
      "cell_type": "code",
      "source": [
        "model  = GAT(in_channels=node_features.shape[1], out_channels=1)\n",
        "model"
      ],
      "metadata": {
        "id": "ZbAsqUhgfB6L",
        "colab": {
          "base_uri": "https://localhost:8080/"
        },
        "outputId": "724b5067-492f-4573-afd6-7cb90a3ee4da"
      },
      "execution_count": 13,
      "outputs": [
        {
          "output_type": "execute_result",
          "data": {
            "text/plain": [
              "GAT(\n",
              "  (gat1): GATConv(12, 128, heads=1)\n",
              "  (gat2): GATConv(128, 1, heads=1)\n",
              ")"
            ]
          },
          "metadata": {},
          "execution_count": 13
        }
      ]
    },
    {
      "cell_type": "code",
      "source": [
        "def train_model(model, lr = 0.01, epochs = 100):\n",
        "\n",
        "  optimizer = torch.optim.Adam(model.parameters(), lr=lr)\n",
        "\n",
        "  for epoch in range(epochs):\n",
        "    model.train()\n",
        "    optimizer.zero_grad()\n",
        "    node_embeddings, attention_weights = model(data.x, data.edge_index, data.edge_attr)\n",
        "    loss = torch.mean(attention_weights[1])\n",
        "    loss.backward()\n",
        "    optimizer.step()\n",
        "\n",
        "    if epoch % 10 == 0:\n",
        "        print(f\"Epoch {epoch + 1}, Loss: {loss.item()}\")\n",
        "\n",
        "  return attention_weights"
      ],
      "metadata": {
        "id": "1Kf5wWEKDLV3"
      },
      "execution_count": 14,
      "outputs": []
    },
    {
      "cell_type": "code",
      "source": [
        "attention_weights = train_model(model, epochs = 10)"
      ],
      "metadata": {
        "colab": {
          "base_uri": "https://localhost:8080/"
        },
        "id": "fUwfo8Kicuoq",
        "outputId": "457f7218-4386-4911-bf65-f8b47c6ab92c"
      },
      "execution_count": 15,
      "outputs": [
        {
          "output_type": "stream",
          "name": "stdout",
          "text": [
            "Epoch 1, Loss: 0.4484439194202423\n"
          ]
        }
      ]
    },
    {
      "cell_type": "code",
      "source": [
        "attention_weights[1].shape"
      ],
      "metadata": {
        "colab": {
          "base_uri": "https://localhost:8080/"
        },
        "id": "_viHapdgzDZ8",
        "outputId": "303bcea1-9dd9-480b-bb33-36da22034fa9"
      },
      "execution_count": 16,
      "outputs": [
        {
          "output_type": "execute_result",
          "data": {
            "text/plain": [
              "torch.Size([1511092, 1])"
            ]
          },
          "metadata": {},
          "execution_count": 16
        }
      ]
    },
    {
      "cell_type": "code",
      "source": [
        "attention_scores = attention_weights[1].sum(dim=-1)\n",
        "\n",
        "src, dst = data.edge_index\n",
        "node_importance = torch.zeros(len(nodes), device=attention_scores.device)\n",
        "\n",
        "with torch.no_grad():\n",
        "  node_importance.scatter_add_(0, src, attention_scores)\n",
        "  node_importance.scatter_add_(0, dst, attention_scores)"
      ],
      "metadata": {
        "id": "zPMUaa5KzKH9"
      },
      "execution_count": 17,
      "outputs": []
    },
    {
      "cell_type": "code",
      "source": [
        "node_importance = node_importance.tolist()\n",
        "node_importances = {node: node_importance[node2idx[node]] for node in nodes}\n",
        "\n",
        "df = pd.DataFrame(list(node_importances.items()), columns=['user_id', 'importance'])\n",
        "\n",
        "df = df.sort_values(by='importance', ascending=False)\n",
        "df.head(10)"
      ],
      "metadata": {
        "colab": {
          "base_uri": "https://localhost:8080/",
          "height": 363
        },
        "id": "J-VeBq86j-cB",
        "outputId": "c9a243e7-8b48-4c21-f2fa-f03cbd25f0c4"
      },
      "execution_count": 18,
      "outputs": [
        {
          "output_type": "execute_result",
          "data": {
            "text/plain": [
              "         user_id    importance\n",
              "549576   5402612  34578.230469\n",
              "265236   2557521  32386.173828\n",
              "479813    428333  20113.384766\n",
              "60311    1367531   7928.902344\n",
              "325813  28785486   7671.791992\n",
              "353527  30313925   7641.931152\n",
              "624073    759251   5361.534668\n",
              "326906   2883841   5351.500000\n",
              "79888   14780915   4447.500000\n",
              "113058   1652541   4209.017578"
            ],
            "text/html": [
              "\n",
              "  <div id=\"df-3c18ffb3-0187-45b5-9f83-5e31b8d7985d\" class=\"colab-df-container\">\n",
              "    <div>\n",
              "<style scoped>\n",
              "    .dataframe tbody tr th:only-of-type {\n",
              "        vertical-align: middle;\n",
              "    }\n",
              "\n",
              "    .dataframe tbody tr th {\n",
              "        vertical-align: top;\n",
              "    }\n",
              "\n",
              "    .dataframe thead th {\n",
              "        text-align: right;\n",
              "    }\n",
              "</style>\n",
              "<table border=\"1\" class=\"dataframe\">\n",
              "  <thead>\n",
              "    <tr style=\"text-align: right;\">\n",
              "      <th></th>\n",
              "      <th>user_id</th>\n",
              "      <th>importance</th>\n",
              "    </tr>\n",
              "  </thead>\n",
              "  <tbody>\n",
              "    <tr>\n",
              "      <th>549576</th>\n",
              "      <td>5402612</td>\n",
              "      <td>34578.230469</td>\n",
              "    </tr>\n",
              "    <tr>\n",
              "      <th>265236</th>\n",
              "      <td>2557521</td>\n",
              "      <td>32386.173828</td>\n",
              "    </tr>\n",
              "    <tr>\n",
              "      <th>479813</th>\n",
              "      <td>428333</td>\n",
              "      <td>20113.384766</td>\n",
              "    </tr>\n",
              "    <tr>\n",
              "      <th>60311</th>\n",
              "      <td>1367531</td>\n",
              "      <td>7928.902344</td>\n",
              "    </tr>\n",
              "    <tr>\n",
              "      <th>325813</th>\n",
              "      <td>28785486</td>\n",
              "      <td>7671.791992</td>\n",
              "    </tr>\n",
              "    <tr>\n",
              "      <th>353527</th>\n",
              "      <td>30313925</td>\n",
              "      <td>7641.931152</td>\n",
              "    </tr>\n",
              "    <tr>\n",
              "      <th>624073</th>\n",
              "      <td>759251</td>\n",
              "      <td>5361.534668</td>\n",
              "    </tr>\n",
              "    <tr>\n",
              "      <th>326906</th>\n",
              "      <td>2883841</td>\n",
              "      <td>5351.500000</td>\n",
              "    </tr>\n",
              "    <tr>\n",
              "      <th>79888</th>\n",
              "      <td>14780915</td>\n",
              "      <td>4447.500000</td>\n",
              "    </tr>\n",
              "    <tr>\n",
              "      <th>113058</th>\n",
              "      <td>1652541</td>\n",
              "      <td>4209.017578</td>\n",
              "    </tr>\n",
              "  </tbody>\n",
              "</table>\n",
              "</div>\n",
              "    <div class=\"colab-df-buttons\">\n",
              "\n",
              "  <div class=\"colab-df-container\">\n",
              "    <button class=\"colab-df-convert\" onclick=\"convertToInteractive('df-3c18ffb3-0187-45b5-9f83-5e31b8d7985d')\"\n",
              "            title=\"Convert this dataframe to an interactive table.\"\n",
              "            style=\"display:none;\">\n",
              "\n",
              "  <svg xmlns=\"http://www.w3.org/2000/svg\" height=\"24px\" viewBox=\"0 -960 960 960\">\n",
              "    <path d=\"M120-120v-720h720v720H120Zm60-500h600v-160H180v160Zm220 220h160v-160H400v160Zm0 220h160v-160H400v160ZM180-400h160v-160H180v160Zm440 0h160v-160H620v160ZM180-180h160v-160H180v160Zm440 0h160v-160H620v160Z\"/>\n",
              "  </svg>\n",
              "    </button>\n",
              "\n",
              "  <style>\n",
              "    .colab-df-container {\n",
              "      display:flex;\n",
              "      gap: 12px;\n",
              "    }\n",
              "\n",
              "    .colab-df-convert {\n",
              "      background-color: #E8F0FE;\n",
              "      border: none;\n",
              "      border-radius: 50%;\n",
              "      cursor: pointer;\n",
              "      display: none;\n",
              "      fill: #1967D2;\n",
              "      height: 32px;\n",
              "      padding: 0 0 0 0;\n",
              "      width: 32px;\n",
              "    }\n",
              "\n",
              "    .colab-df-convert:hover {\n",
              "      background-color: #E2EBFA;\n",
              "      box-shadow: 0px 1px 2px rgba(60, 64, 67, 0.3), 0px 1px 3px 1px rgba(60, 64, 67, 0.15);\n",
              "      fill: #174EA6;\n",
              "    }\n",
              "\n",
              "    .colab-df-buttons div {\n",
              "      margin-bottom: 4px;\n",
              "    }\n",
              "\n",
              "    [theme=dark] .colab-df-convert {\n",
              "      background-color: #3B4455;\n",
              "      fill: #D2E3FC;\n",
              "    }\n",
              "\n",
              "    [theme=dark] .colab-df-convert:hover {\n",
              "      background-color: #434B5C;\n",
              "      box-shadow: 0px 1px 3px 1px rgba(0, 0, 0, 0.15);\n",
              "      filter: drop-shadow(0px 1px 2px rgba(0, 0, 0, 0.3));\n",
              "      fill: #FFFFFF;\n",
              "    }\n",
              "  </style>\n",
              "\n",
              "    <script>\n",
              "      const buttonEl =\n",
              "        document.querySelector('#df-3c18ffb3-0187-45b5-9f83-5e31b8d7985d button.colab-df-convert');\n",
              "      buttonEl.style.display =\n",
              "        google.colab.kernel.accessAllowed ? 'block' : 'none';\n",
              "\n",
              "      async function convertToInteractive(key) {\n",
              "        const element = document.querySelector('#df-3c18ffb3-0187-45b5-9f83-5e31b8d7985d');\n",
              "        const dataTable =\n",
              "          await google.colab.kernel.invokeFunction('convertToInteractive',\n",
              "                                                    [key], {});\n",
              "        if (!dataTable) return;\n",
              "\n",
              "        const docLinkHtml = 'Like what you see? Visit the ' +\n",
              "          '<a target=\"_blank\" href=https://colab.research.google.com/notebooks/data_table.ipynb>data table notebook</a>'\n",
              "          + ' to learn more about interactive tables.';\n",
              "        element.innerHTML = '';\n",
              "        dataTable['output_type'] = 'display_data';\n",
              "        await google.colab.output.renderOutput(dataTable, element);\n",
              "        const docLink = document.createElement('div');\n",
              "        docLink.innerHTML = docLinkHtml;\n",
              "        element.appendChild(docLink);\n",
              "      }\n",
              "    </script>\n",
              "  </div>\n",
              "\n",
              "\n",
              "<div id=\"df-5e48378c-ee80-4ef6-8cdc-aff7b6f7b017\">\n",
              "  <button class=\"colab-df-quickchart\" onclick=\"quickchart('df-5e48378c-ee80-4ef6-8cdc-aff7b6f7b017')\"\n",
              "            title=\"Suggest charts\"\n",
              "            style=\"display:none;\">\n",
              "\n",
              "<svg xmlns=\"http://www.w3.org/2000/svg\" height=\"24px\"viewBox=\"0 0 24 24\"\n",
              "     width=\"24px\">\n",
              "    <g>\n",
              "        <path d=\"M19 3H5c-1.1 0-2 .9-2 2v14c0 1.1.9 2 2 2h14c1.1 0 2-.9 2-2V5c0-1.1-.9-2-2-2zM9 17H7v-7h2v7zm4 0h-2V7h2v10zm4 0h-2v-4h2v4z\"/>\n",
              "    </g>\n",
              "</svg>\n",
              "  </button>\n",
              "\n",
              "<style>\n",
              "  .colab-df-quickchart {\n",
              "      --bg-color: #E8F0FE;\n",
              "      --fill-color: #1967D2;\n",
              "      --hover-bg-color: #E2EBFA;\n",
              "      --hover-fill-color: #174EA6;\n",
              "      --disabled-fill-color: #AAA;\n",
              "      --disabled-bg-color: #DDD;\n",
              "  }\n",
              "\n",
              "  [theme=dark] .colab-df-quickchart {\n",
              "      --bg-color: #3B4455;\n",
              "      --fill-color: #D2E3FC;\n",
              "      --hover-bg-color: #434B5C;\n",
              "      --hover-fill-color: #FFFFFF;\n",
              "      --disabled-bg-color: #3B4455;\n",
              "      --disabled-fill-color: #666;\n",
              "  }\n",
              "\n",
              "  .colab-df-quickchart {\n",
              "    background-color: var(--bg-color);\n",
              "    border: none;\n",
              "    border-radius: 50%;\n",
              "    cursor: pointer;\n",
              "    display: none;\n",
              "    fill: var(--fill-color);\n",
              "    height: 32px;\n",
              "    padding: 0;\n",
              "    width: 32px;\n",
              "  }\n",
              "\n",
              "  .colab-df-quickchart:hover {\n",
              "    background-color: var(--hover-bg-color);\n",
              "    box-shadow: 0 1px 2px rgba(60, 64, 67, 0.3), 0 1px 3px 1px rgba(60, 64, 67, 0.15);\n",
              "    fill: var(--button-hover-fill-color);\n",
              "  }\n",
              "\n",
              "  .colab-df-quickchart-complete:disabled,\n",
              "  .colab-df-quickchart-complete:disabled:hover {\n",
              "    background-color: var(--disabled-bg-color);\n",
              "    fill: var(--disabled-fill-color);\n",
              "    box-shadow: none;\n",
              "  }\n",
              "\n",
              "  .colab-df-spinner {\n",
              "    border: 2px solid var(--fill-color);\n",
              "    border-color: transparent;\n",
              "    border-bottom-color: var(--fill-color);\n",
              "    animation:\n",
              "      spin 1s steps(1) infinite;\n",
              "  }\n",
              "\n",
              "  @keyframes spin {\n",
              "    0% {\n",
              "      border-color: transparent;\n",
              "      border-bottom-color: var(--fill-color);\n",
              "      border-left-color: var(--fill-color);\n",
              "    }\n",
              "    20% {\n",
              "      border-color: transparent;\n",
              "      border-left-color: var(--fill-color);\n",
              "      border-top-color: var(--fill-color);\n",
              "    }\n",
              "    30% {\n",
              "      border-color: transparent;\n",
              "      border-left-color: var(--fill-color);\n",
              "      border-top-color: var(--fill-color);\n",
              "      border-right-color: var(--fill-color);\n",
              "    }\n",
              "    40% {\n",
              "      border-color: transparent;\n",
              "      border-right-color: var(--fill-color);\n",
              "      border-top-color: var(--fill-color);\n",
              "    }\n",
              "    60% {\n",
              "      border-color: transparent;\n",
              "      border-right-color: var(--fill-color);\n",
              "    }\n",
              "    80% {\n",
              "      border-color: transparent;\n",
              "      border-right-color: var(--fill-color);\n",
              "      border-bottom-color: var(--fill-color);\n",
              "    }\n",
              "    90% {\n",
              "      border-color: transparent;\n",
              "      border-bottom-color: var(--fill-color);\n",
              "    }\n",
              "  }\n",
              "</style>\n",
              "\n",
              "  <script>\n",
              "    async function quickchart(key) {\n",
              "      const quickchartButtonEl =\n",
              "        document.querySelector('#' + key + ' button');\n",
              "      quickchartButtonEl.disabled = true;  // To prevent multiple clicks.\n",
              "      quickchartButtonEl.classList.add('colab-df-spinner');\n",
              "      try {\n",
              "        const charts = await google.colab.kernel.invokeFunction(\n",
              "            'suggestCharts', [key], {});\n",
              "      } catch (error) {\n",
              "        console.error('Error during call to suggestCharts:', error);\n",
              "      }\n",
              "      quickchartButtonEl.classList.remove('colab-df-spinner');\n",
              "      quickchartButtonEl.classList.add('colab-df-quickchart-complete');\n",
              "    }\n",
              "    (() => {\n",
              "      let quickchartButtonEl =\n",
              "        document.querySelector('#df-5e48378c-ee80-4ef6-8cdc-aff7b6f7b017 button');\n",
              "      quickchartButtonEl.style.display =\n",
              "        google.colab.kernel.accessAllowed ? 'block' : 'none';\n",
              "    })();\n",
              "  </script>\n",
              "</div>\n",
              "\n",
              "    </div>\n",
              "  </div>\n"
            ],
            "application/vnd.google.colaboratory.intrinsic+json": {
              "type": "dataframe",
              "variable_name": "df"
            }
          },
          "metadata": {},
          "execution_count": 18
        }
      ]
    },
    {
      "cell_type": "code",
      "source": [
        "df.to_csv('GAT_importances.csv', index = False)"
      ],
      "metadata": {
        "id": "x0f6OrNmmiOg"
      },
      "execution_count": 20,
      "outputs": []
    }
  ]
}