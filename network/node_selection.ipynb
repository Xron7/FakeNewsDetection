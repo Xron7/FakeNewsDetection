{
 "cells": [
  {
   "cell_type": "markdown",
   "id": "2c3db1c2",
   "metadata": {},
   "source": [
    "# Node Selection"
   ]
  },
  {
   "cell_type": "markdown",
   "id": "41b712b3",
   "metadata": {},
   "source": [
    "## Real Network"
   ]
  },
  {
   "cell_type": "code",
   "execution_count": 1,
   "id": "3109fca8",
   "metadata": {},
   "outputs": [],
   "source": [
    "import os\n",
    "import pandas as pd\n",
    "\n",
    "os.chdir(os.path.abspath(os.path.join(os.getcwd(), \"..\")))\n",
    "\n",
    "from config import PATH\n",
    "\n",
    "SEED = 42"
   ]
  },
  {
   "cell_type": "code",
   "execution_count": 2,
   "id": "bce387bd",
   "metadata": {},
   "outputs": [],
   "source": [
    "emb_df = pd.read_csv(PATH + 'node_embeddings5000.csv')"
   ]
  },
  {
   "cell_type": "code",
   "execution_count": 3,
   "id": "f51605e9",
   "metadata": {},
   "outputs": [
    {
     "name": "stdout",
     "output_type": "stream",
     "text": [
      "Removed zero embeddings:\n",
      "Nodes remaining = 19429/677640\n"
     ]
    }
   ],
   "source": [
    "def remove_zero_attn(emb_df):\n",
    "    n_rows = emb_df.shape[0]\n",
    "\n",
    "    embedding_cols = emb_df.columns.to_list()\n",
    "    embedding_cols.remove('user_id')\n",
    "\n",
    "    # Remove zeros\n",
    "    emb_df = emb_df.loc[~(emb_df[embedding_cols] == 0.0).all(axis=1)]\n",
    "    print('Removed zero embeddings:')\n",
    "    print(f\"Nodes remaining = {emb_df.shape[0]}/{n_rows}\")\n",
    "    return emb_df\n",
    "\n",
    "emb_df = remove_zero_attn(emb_df)"
   ]
  },
  {
   "cell_type": "code",
   "execution_count": null,
   "id": "c6c41294",
   "metadata": {},
   "outputs": [],
   "source": [
    "def add_node_features(emb_df, features_file = 'node_features.csv'):\n",
    "    nodes_df = pd.read_csv(PATH + features_file)\n",
    "    node_columns = nodes_df.columns.tolist()\n",
    "    node_columns.remove('user_id')\n",
    "    return nodes_df.merge(emb_df, on=\"user_id\", how=\"inner\")\n",
    "\n",
    "df = add_node_features(emb_df)"
   ]
  },
  {
   "cell_type": "code",
   "execution_count": null,
   "id": "08f9d3a2",
   "metadata": {},
   "outputs": [
    {
     "data": {
      "text/html": [
       "<div>\n",
       "<style scoped>\n",
       "    .dataframe tbody tr th:only-of-type {\n",
       "        vertical-align: middle;\n",
       "    }\n",
       "\n",
       "    .dataframe tbody tr th {\n",
       "        vertical-align: top;\n",
       "    }\n",
       "\n",
       "    .dataframe thead th {\n",
       "        text-align: right;\n",
       "    }\n",
       "</style>\n",
       "<table border=\"1\" class=\"dataframe\">\n",
       "  <thead>\n",
       "    <tr style=\"text-align: right;\">\n",
       "      <th></th>\n",
       "      <th>user_id</th>\n",
       "      <th>user_rt</th>\n",
       "      <th>num_post</th>\n",
       "      <th>user_time_rt</th>\n",
       "      <th>num_post_unverified</th>\n",
       "      <th>num_post_non-rumor</th>\n",
       "      <th>num_post_true</th>\n",
       "      <th>num_post_false</th>\n",
       "      <th>num_rt_unverified</th>\n",
       "      <th>num_rt_non-rumor</th>\n",
       "      <th>...</th>\n",
       "      <th>emb_9</th>\n",
       "      <th>emb_10</th>\n",
       "      <th>emb_11</th>\n",
       "      <th>Unnamed: 0</th>\n",
       "      <th>in_degree</th>\n",
       "      <th>out_degree</th>\n",
       "      <th>katz</th>\n",
       "      <th>eigenvector</th>\n",
       "      <th>pagerank</th>\n",
       "      <th>betweenness</th>\n",
       "    </tr>\n",
       "  </thead>\n",
       "  <tbody>\n",
       "    <tr>\n",
       "      <th>0</th>\n",
       "      <td>1000157142</td>\n",
       "      <td>2</td>\n",
       "      <td>0</td>\n",
       "      <td>3.775</td>\n",
       "      <td>0</td>\n",
       "      <td>0</td>\n",
       "      <td>0</td>\n",
       "      <td>0</td>\n",
       "      <td>0</td>\n",
       "      <td>0</td>\n",
       "      <td>...</td>\n",
       "      <td>3.519199</td>\n",
       "      <td>-2.032025</td>\n",
       "      <td>-1.165162</td>\n",
       "      <td>490687</td>\n",
       "      <td>2</td>\n",
       "      <td>2</td>\n",
       "      <td>0.001338</td>\n",
       "      <td>3.768125e-09</td>\n",
       "      <td>0.000002</td>\n",
       "      <td>2.0</td>\n",
       "    </tr>\n",
       "    <tr>\n",
       "      <th>1</th>\n",
       "      <td>1000228238</td>\n",
       "      <td>2</td>\n",
       "      <td>0</td>\n",
       "      <td>29.650</td>\n",
       "      <td>0</td>\n",
       "      <td>0</td>\n",
       "      <td>0</td>\n",
       "      <td>0</td>\n",
       "      <td>0</td>\n",
       "      <td>0</td>\n",
       "      <td>...</td>\n",
       "      <td>0.009075</td>\n",
       "      <td>0.006395</td>\n",
       "      <td>0.009014</td>\n",
       "      <td>138774</td>\n",
       "      <td>2</td>\n",
       "      <td>5</td>\n",
       "      <td>0.001271</td>\n",
       "      <td>3.848015e-06</td>\n",
       "      <td>0.000001</td>\n",
       "      <td>45830.0</td>\n",
       "    </tr>\n",
       "    <tr>\n",
       "      <th>2</th>\n",
       "      <td>1000424378</td>\n",
       "      <td>1</td>\n",
       "      <td>0</td>\n",
       "      <td>3.180</td>\n",
       "      <td>0</td>\n",
       "      <td>0</td>\n",
       "      <td>0</td>\n",
       "      <td>0</td>\n",
       "      <td>0</td>\n",
       "      <td>1</td>\n",
       "      <td>...</td>\n",
       "      <td>0.044873</td>\n",
       "      <td>0.044618</td>\n",
       "      <td>0.080977</td>\n",
       "      <td>106472</td>\n",
       "      <td>1</td>\n",
       "      <td>5</td>\n",
       "      <td>0.001238</td>\n",
       "      <td>1.489122e-08</td>\n",
       "      <td>0.000001</td>\n",
       "      <td>20.0</td>\n",
       "    </tr>\n",
       "    <tr>\n",
       "      <th>3</th>\n",
       "      <td>100084513</td>\n",
       "      <td>3</td>\n",
       "      <td>0</td>\n",
       "      <td>15.950</td>\n",
       "      <td>0</td>\n",
       "      <td>0</td>\n",
       "      <td>0</td>\n",
       "      <td>0</td>\n",
       "      <td>1</td>\n",
       "      <td>2</td>\n",
       "      <td>...</td>\n",
       "      <td>0.174872</td>\n",
       "      <td>0.034832</td>\n",
       "      <td>-0.076246</td>\n",
       "      <td>10498</td>\n",
       "      <td>3</td>\n",
       "      <td>3</td>\n",
       "      <td>0.001403</td>\n",
       "      <td>3.582313e-06</td>\n",
       "      <td>0.000003</td>\n",
       "      <td>34454801.0</td>\n",
       "    </tr>\n",
       "    <tr>\n",
       "      <th>4</th>\n",
       "      <td>1001017003</td>\n",
       "      <td>1</td>\n",
       "      <td>0</td>\n",
       "      <td>4.420</td>\n",
       "      <td>0</td>\n",
       "      <td>0</td>\n",
       "      <td>0</td>\n",
       "      <td>0</td>\n",
       "      <td>0</td>\n",
       "      <td>0</td>\n",
       "      <td>...</td>\n",
       "      <td>1.096398</td>\n",
       "      <td>-3.193800</td>\n",
       "      <td>-2.022495</td>\n",
       "      <td>184330</td>\n",
       "      <td>1</td>\n",
       "      <td>2</td>\n",
       "      <td>0.001201</td>\n",
       "      <td>5.430364e-11</td>\n",
       "      <td>0.000002</td>\n",
       "      <td>0.0</td>\n",
       "    </tr>\n",
       "  </tbody>\n",
       "</table>\n",
       "<p>5 rows × 33 columns</p>\n",
       "</div>"
      ],
      "text/plain": [
       "      user_id  user_rt  num_post  user_time_rt  num_post_unverified  \\\n",
       "0  1000157142        2         0         3.775                    0   \n",
       "1  1000228238        2         0        29.650                    0   \n",
       "2  1000424378        1         0         3.180                    0   \n",
       "3   100084513        3         0        15.950                    0   \n",
       "4  1001017003        1         0         4.420                    0   \n",
       "\n",
       "   num_post_non-rumor  num_post_true  num_post_false  num_rt_unverified  \\\n",
       "0                   0              0               0                  0   \n",
       "1                   0              0               0                  0   \n",
       "2                   0              0               0                  0   \n",
       "3                   0              0               0                  1   \n",
       "4                   0              0               0                  0   \n",
       "\n",
       "   num_rt_non-rumor  ...     emb_9    emb_10    emb_11  Unnamed: 0  in_degree  \\\n",
       "0                 0  ...  3.519199 -2.032025 -1.165162      490687          2   \n",
       "1                 0  ...  0.009075  0.006395  0.009014      138774          2   \n",
       "2                 1  ...  0.044873  0.044618  0.080977      106472          1   \n",
       "3                 2  ...  0.174872  0.034832 -0.076246       10498          3   \n",
       "4                 0  ...  1.096398 -3.193800 -2.022495      184330          1   \n",
       "\n",
       "   out_degree      katz   eigenvector  pagerank  betweenness  \n",
       "0           2  0.001338  3.768125e-09  0.000002          2.0  \n",
       "1           5  0.001271  3.848015e-06  0.000001      45830.0  \n",
       "2           5  0.001238  1.489122e-08  0.000001         20.0  \n",
       "3           3  0.001403  3.582313e-06  0.000003   34454801.0  \n",
       "4           2  0.001201  5.430364e-11  0.000002          0.0  \n",
       "\n",
       "[5 rows x 33 columns]"
      ]
     },
     "execution_count": 5,
     "metadata": {},
     "output_type": "execute_result"
    }
   ],
   "source": [
    "def add_node_metrics(df, metrics_file = 'graph_metrics.csv'):\n",
    "    metrics_df = pd.read_csv(PATH + metrics_file)\n",
    "    metrics_df.rename(columns={\"node\": \"user_id\"}, inplace=True)\n",
    "    return df.merge(metrics_df, on=\"user_id\", how=\"inner\")\n",
    "    \n",
    "df = add_node_metrics(df)\n",
    "df.head()"
   ]
  },
  {
   "cell_type": "code",
   "execution_count": 6,
   "id": "07c86be7",
   "metadata": {},
   "outputs": [
    {
     "data": {
      "text/plain": [
       "5603"
      ]
     },
     "execution_count": 6,
     "metadata": {},
     "output_type": "execute_result"
    }
   ],
   "source": [
    "df_to_remove = df[df['score'] < 0]\n",
    "df_to_remove.shape[0]"
   ]
  },
  {
   "cell_type": "code",
   "execution_count": 7,
   "id": "fa06413d",
   "metadata": {},
   "outputs": [
    {
     "data": {
      "text/plain": [
       "count    5.603000e+03\n",
       "mean     6.427988e+05\n",
       "std      8.622262e+06\n",
       "min      0.000000e+00\n",
       "25%      2.000000e+00\n",
       "50%      3.600000e+01\n",
       "75%      9.179000e+03\n",
       "max      2.842791e+08\n",
       "Name: betweenness, dtype: float64"
      ]
     },
     "execution_count": 7,
     "metadata": {},
     "output_type": "execute_result"
    }
   ],
   "source": [
    "df_to_remove[\"betweenness\"].describe()"
   ]
  },
  {
   "cell_type": "code",
   "execution_count": 8,
   "id": "d2e8c401",
   "metadata": {},
   "outputs": [],
   "source": [
    "df_to_remove = df_to_remove.sort_values(by=\"score\", ascending=True)\n",
    "df_to_remove['user_id'].to_csv('network/nodes_to_remove/gate_sorted.txt', index=False, header=False)"
   ]
  },
  {
   "cell_type": "markdown",
   "id": "f84ed76a",
   "metadata": {},
   "source": [
    "### Comparison with baseline removal"
   ]
  },
  {
   "cell_type": "code",
   "execution_count": 18,
   "id": "860c1c91",
   "metadata": {},
   "outputs": [
    {
     "data": {
      "text/plain": [
       "(677640, 21)"
      ]
     },
     "execution_count": 18,
     "metadata": {},
     "output_type": "execute_result"
    }
   ],
   "source": [
    "df = pd.read_csv(PATH + 'node_features.csv')\n",
    "df = add_node_metrics(df)\n",
    "df.shape"
   ]
  },
  {
   "cell_type": "code",
   "execution_count": 19,
   "id": "e3728d82",
   "metadata": {},
   "outputs": [],
   "source": [
    "from sklearn.preprocessing import MinMaxScaler\n",
    "\n",
    "def remove_harmful_baseline(df, count, alpha=0.5):\n",
    "    # Invert score so more negative = more harmful\n",
    "    df[\"harmfulness\"] = -df[\"score\"]\n",
    "\n",
    "    # Normalize both columns to [0, 1]\n",
    "    scaler = MinMaxScaler()\n",
    "    df[[\"harmfulness_norm\", \"betweenness_norm\"]] = scaler.fit_transform(\n",
    "        df[[\"harmfulness\", \"betweenness\"]]\n",
    "    )\n",
    "    df[\"joint_score\"] = alpha * df[\"harmfulness_norm\"] + (1 - alpha) * df[\"betweenness_norm\"]\n",
    "    return df.sort_values(\"joint_score\", ascending=False).head(count)"
   ]
  },
  {
   "cell_type": "code",
   "execution_count": 20,
   "id": "f50c2e79",
   "metadata": {},
   "outputs": [],
   "source": [
    "df = remove_harmful_baseline(df, 5603)\n",
    "df['user_id'].to_csv('network/nodes_to_remove/jointTest.txt', index=False, header=False)"
   ]
  },
  {
   "cell_type": "markdown",
   "id": "061538a9",
   "metadata": {},
   "source": [
    "## Dummy networks"
   ]
  },
  {
   "cell_type": "markdown",
   "id": "dad6c13f",
   "metadata": {},
   "source": [
    "### Gate selected"
   ]
  },
  {
   "cell_type": "code",
   "execution_count": null,
   "id": "348926c1",
   "metadata": {},
   "outputs": [
    {
     "name": "stdout",
     "output_type": "stream",
     "text": [
      "Removed zero embeddings:\n",
      "Nodes remaining = 9331/677640\n"
     ]
    }
   ],
   "source": [
    "dummy_df = pd.read_csv(PATH + 'node_embeddings_same_dist.csv')\n",
    "dummy_df = remove_zero_attn(dummy_df)"
   ]
  },
  {
   "cell_type": "code",
   "execution_count": 22,
   "id": "b2f77211",
   "metadata": {},
   "outputs": [
    {
     "data": {
      "text/plain": [
       "2281"
      ]
     },
     "execution_count": 22,
     "metadata": {},
     "output_type": "execute_result"
    }
   ],
   "source": [
    "df_to_remove = dummy_df[dummy_df['score'] < 0]\n",
    "df_to_remove.shape[0]"
   ]
  },
  {
   "cell_type": "code",
   "execution_count": 23,
   "id": "0df2bb8a",
   "metadata": {},
   "outputs": [],
   "source": [
    "df_to_remove = df_to_remove.sort_values(by=\"score\", ascending=True)\n",
    "df_to_remove['user_id'].to_csv('network/nodes_to_remove/dummy_gate_sorted.txt', index=False, header=False)"
   ]
  },
  {
   "cell_type": "markdown",
   "id": "6f34006c",
   "metadata": {},
   "source": [
    "### Baseline selected"
   ]
  },
  {
   "cell_type": "code",
   "execution_count": 24,
   "id": "014e5ae7",
   "metadata": {},
   "outputs": [
    {
     "data": {
      "text/plain": [
       "(677640, 21)"
      ]
     },
     "execution_count": 24,
     "metadata": {},
     "output_type": "execute_result"
    }
   ],
   "source": [
    "dummy_df = pd.read_csv(PATH + 'node_features.csv')\n",
    "dummy_df = add_node_metrics(dummy_df)\n",
    "dummy_df.shape"
   ]
  },
  {
   "cell_type": "code",
   "execution_count": 25,
   "id": "925282eb",
   "metadata": {},
   "outputs": [],
   "source": [
    "dummy_df = remove_harmful_baseline(dummy_df, 9331)\n",
    "df['user_id'].to_csv('network/nodes_to_remove/dummy_baseline.txt', index=False, header=False)"
   ]
  }
 ],
 "metadata": {
  "kernelspec": {
   "display_name": ".venv",
   "language": "python",
   "name": "python3"
  },
  "language_info": {
   "codemirror_mode": {
    "name": "ipython",
    "version": 3
   },
   "file_extension": ".py",
   "mimetype": "text/x-python",
   "name": "python",
   "nbconvert_exporter": "python",
   "pygments_lexer": "ipython3",
   "version": "3.11.9"
  }
 },
 "nbformat": 4,
 "nbformat_minor": 5
}
