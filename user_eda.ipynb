{
 "cells": [
  {
   "cell_type": "code",
   "execution_count": 25,
   "id": "2c875d18-f8df-423f-ba7c-84035dbd9183",
   "metadata": {},
   "outputs": [],
   "source": [
    "import pandas as pd\n",
    "import matplotlib.pyplot as plt\n",
    "import seaborn as sns\n",
    "\n",
    "from config import PATH\n",
    "from utils  import plot_dist"
   ]
  },
  {
   "cell_type": "code",
   "execution_count": 4,
   "id": "8e533ff1-000d-46c3-bc08-71ba3fa004c8",
   "metadata": {},
   "outputs": [],
   "source": [
    "user_df = pd.read_csv(PATH + 'user_dataset.csv')"
   ]
  },
  {
   "cell_type": "code",
   "execution_count": 46,
   "id": "2a462f8b-10c9-4c66-9916-7786447d582c",
   "metadata": {},
   "outputs": [
    {
     "name": "stdout",
     "output_type": "stream",
     "text": [
      "# of unique posters: 906\n",
      "----------------------------------------------------\n",
      "num_rt MIN:          0\n",
      "num_rt MAX:          192\n",
      "num_rt AVG:          1.3320007673691046\n",
      "num_rt STD:          1.43300114869077\n",
      "num_rt MEDIAN:       1.0\n",
      "----------------------------------------------------\n",
      "num_post MIN:        0\n",
      "num_post MAX:        80\n",
      "num_post AVG:        0.003156543297326014\n",
      "num_post STD:        0.2267339172503331\n",
      "num_post MEDIAN:     0.0\n"
     ]
    }
   ],
   "source": [
    "tweet_df = pd.read_csv(PATH + 'dataset_enhanced.csv')\n",
    "print(f\"# of unique posters: {tweet_df['poster'].nunique()}\")\n",
    "print('----------------------------------------------------')\n",
    "print(f\"num_rt MIN:          {user_df['num_rt'].min()}\")\n",
    "print(f\"num_rt MAX:          {user_df['num_rt'].max()}\")\n",
    "print(f\"num_rt AVG:          {user_df['num_rt'].mean()}\")\n",
    "print(f\"num_rt STD:          {user_df['num_rt'].std()}\")\n",
    "print(f\"num_rt MEDIAN:       {user_df['num_rt'].median()}\")\n",
    "print('----------------------------------------------------')\n",
    "print(f\"num_post MIN:        {user_df['num_post'].min()}\")\n",
    "print(f\"num_post MAX:        {user_df['num_post'].max()}\")\n",
    "print(f\"num_post AVG:        {user_df['num_post'].mean()}\")\n",
    "print(f\"num_post STD:        {user_df['num_post'].std()}\")\n",
    "print(f\"num_post MEDIAN:     {user_df['num_post'].median()}\")"
   ]
  },
  {
   "cell_type": "code",
   "execution_count": 37,
   "id": "ce7d1e77-35fe-41f6-843a-bb60c55e555f",
   "metadata": {},
   "outputs": [
    {
     "data": {
      "text/plain": [
       "32"
      ]
     },
     "execution_count": 37,
     "metadata": {},
     "output_type": "execute_result"
    }
   ],
   "source": [
    "# TO DO\n",
    "# plot dist"
   ]
  },
  {
   "cell_type": "code",
   "execution_count": null,
   "id": "af4ae8aa-4e85-4d2b-b013-9f36934f36dc",
   "metadata": {},
   "outputs": [],
   "source": []
  }
 ],
 "metadata": {
  "kernelspec": {
   "display_name": "Python 3 (ipykernel)",
   "language": "python",
   "name": "python3"
  },
  "language_info": {
   "codemirror_mode": {
    "name": "ipython",
    "version": 3
   },
   "file_extension": ".py",
   "mimetype": "text/x-python",
   "name": "python",
   "nbconvert_exporter": "python",
   "pygments_lexer": "ipython3",
   "version": "3.8.10"
  }
 },
 "nbformat": 4,
 "nbformat_minor": 5
}
